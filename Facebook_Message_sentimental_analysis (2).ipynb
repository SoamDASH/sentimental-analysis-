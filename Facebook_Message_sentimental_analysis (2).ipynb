{
  "nbformat": 4,
  "nbformat_minor": 0,
  "metadata": {
    "colab": {
      "provenance": []
    },
    "kernelspec": {
      "name": "python3",
      "display_name": "Python 3"
    },
    "language_info": {
      "name": "python"
    },
    "widgets": {
      "application/vnd.jupyter.widget-state+json": {
        "05b75a7025924f7e9d9f6c32b0b030a1": {
          "model_module": "@jupyter-widgets/controls",
          "model_name": "HBoxModel",
          "model_module_version": "1.5.0",
          "state": {
            "_dom_classes": [],
            "_model_module": "@jupyter-widgets/controls",
            "_model_module_version": "1.5.0",
            "_model_name": "HBoxModel",
            "_view_count": null,
            "_view_module": "@jupyter-widgets/controls",
            "_view_module_version": "1.5.0",
            "_view_name": "HBoxView",
            "box_style": "",
            "children": [
              "IPY_MODEL_c82e5b036f324a94ad801e6f22e348b9",
              "IPY_MODEL_ec8985d47d9f4b429d02231f4c31fa0c",
              "IPY_MODEL_347a758c8be34015a3c3d7e83100d815"
            ],
            "layout": "IPY_MODEL_a85f15d049fd4525891b259da255a1bb"
          }
        },
        "c82e5b036f324a94ad801e6f22e348b9": {
          "model_module": "@jupyter-widgets/controls",
          "model_name": "HTMLModel",
          "model_module_version": "1.5.0",
          "state": {
            "_dom_classes": [],
            "_model_module": "@jupyter-widgets/controls",
            "_model_module_version": "1.5.0",
            "_model_name": "HTMLModel",
            "_view_count": null,
            "_view_module": "@jupyter-widgets/controls",
            "_view_module_version": "1.5.0",
            "_view_name": "HTMLView",
            "description": "",
            "description_tooltip": null,
            "layout": "IPY_MODEL_a24916f47d6d43f285fca6b6c5de9bd8",
            "placeholder": "​",
            "style": "IPY_MODEL_62550439bcae43c5a713f9a2e6852176",
            "value": "Downloading: 100%"
          }
        },
        "ec8985d47d9f4b429d02231f4c31fa0c": {
          "model_module": "@jupyter-widgets/controls",
          "model_name": "FloatProgressModel",
          "model_module_version": "1.5.0",
          "state": {
            "_dom_classes": [],
            "_model_module": "@jupyter-widgets/controls",
            "_model_module_version": "1.5.0",
            "_model_name": "FloatProgressModel",
            "_view_count": null,
            "_view_module": "@jupyter-widgets/controls",
            "_view_module_version": "1.5.0",
            "_view_name": "ProgressView",
            "bar_style": "success",
            "description": "",
            "description_tooltip": null,
            "layout": "IPY_MODEL_2b6e5f9e65cf4c58aa474240099fa62f",
            "max": 570,
            "min": 0,
            "orientation": "horizontal",
            "style": "IPY_MODEL_e1f89248c4e142fc8fb6d57757eff17e",
            "value": 570
          }
        },
        "347a758c8be34015a3c3d7e83100d815": {
          "model_module": "@jupyter-widgets/controls",
          "model_name": "HTMLModel",
          "model_module_version": "1.5.0",
          "state": {
            "_dom_classes": [],
            "_model_module": "@jupyter-widgets/controls",
            "_model_module_version": "1.5.0",
            "_model_name": "HTMLModel",
            "_view_count": null,
            "_view_module": "@jupyter-widgets/controls",
            "_view_module_version": "1.5.0",
            "_view_name": "HTMLView",
            "description": "",
            "description_tooltip": null,
            "layout": "IPY_MODEL_3a4ec1c4ab9848cda9c56e93981a1f06",
            "placeholder": "​",
            "style": "IPY_MODEL_acb1eb91e9b8483ca0324fc21d4116e1",
            "value": " 570/570 [00:00&lt;00:00, 9.21kB/s]"
          }
        },
        "a85f15d049fd4525891b259da255a1bb": {
          "model_module": "@jupyter-widgets/base",
          "model_name": "LayoutModel",
          "model_module_version": "1.2.0",
          "state": {
            "_model_module": "@jupyter-widgets/base",
            "_model_module_version": "1.2.0",
            "_model_name": "LayoutModel",
            "_view_count": null,
            "_view_module": "@jupyter-widgets/base",
            "_view_module_version": "1.2.0",
            "_view_name": "LayoutView",
            "align_content": null,
            "align_items": null,
            "align_self": null,
            "border": null,
            "bottom": null,
            "display": null,
            "flex": null,
            "flex_flow": null,
            "grid_area": null,
            "grid_auto_columns": null,
            "grid_auto_flow": null,
            "grid_auto_rows": null,
            "grid_column": null,
            "grid_gap": null,
            "grid_row": null,
            "grid_template_areas": null,
            "grid_template_columns": null,
            "grid_template_rows": null,
            "height": null,
            "justify_content": null,
            "justify_items": null,
            "left": null,
            "margin": null,
            "max_height": null,
            "max_width": null,
            "min_height": null,
            "min_width": null,
            "object_fit": null,
            "object_position": null,
            "order": null,
            "overflow": null,
            "overflow_x": null,
            "overflow_y": null,
            "padding": null,
            "right": null,
            "top": null,
            "visibility": null,
            "width": null
          }
        },
        "a24916f47d6d43f285fca6b6c5de9bd8": {
          "model_module": "@jupyter-widgets/base",
          "model_name": "LayoutModel",
          "model_module_version": "1.2.0",
          "state": {
            "_model_module": "@jupyter-widgets/base",
            "_model_module_version": "1.2.0",
            "_model_name": "LayoutModel",
            "_view_count": null,
            "_view_module": "@jupyter-widgets/base",
            "_view_module_version": "1.2.0",
            "_view_name": "LayoutView",
            "align_content": null,
            "align_items": null,
            "align_self": null,
            "border": null,
            "bottom": null,
            "display": null,
            "flex": null,
            "flex_flow": null,
            "grid_area": null,
            "grid_auto_columns": null,
            "grid_auto_flow": null,
            "grid_auto_rows": null,
            "grid_column": null,
            "grid_gap": null,
            "grid_row": null,
            "grid_template_areas": null,
            "grid_template_columns": null,
            "grid_template_rows": null,
            "height": null,
            "justify_content": null,
            "justify_items": null,
            "left": null,
            "margin": null,
            "max_height": null,
            "max_width": null,
            "min_height": null,
            "min_width": null,
            "object_fit": null,
            "object_position": null,
            "order": null,
            "overflow": null,
            "overflow_x": null,
            "overflow_y": null,
            "padding": null,
            "right": null,
            "top": null,
            "visibility": null,
            "width": null
          }
        },
        "62550439bcae43c5a713f9a2e6852176": {
          "model_module": "@jupyter-widgets/controls",
          "model_name": "DescriptionStyleModel",
          "model_module_version": "1.5.0",
          "state": {
            "_model_module": "@jupyter-widgets/controls",
            "_model_module_version": "1.5.0",
            "_model_name": "DescriptionStyleModel",
            "_view_count": null,
            "_view_module": "@jupyter-widgets/base",
            "_view_module_version": "1.2.0",
            "_view_name": "StyleView",
            "description_width": ""
          }
        },
        "2b6e5f9e65cf4c58aa474240099fa62f": {
          "model_module": "@jupyter-widgets/base",
          "model_name": "LayoutModel",
          "model_module_version": "1.2.0",
          "state": {
            "_model_module": "@jupyter-widgets/base",
            "_model_module_version": "1.2.0",
            "_model_name": "LayoutModel",
            "_view_count": null,
            "_view_module": "@jupyter-widgets/base",
            "_view_module_version": "1.2.0",
            "_view_name": "LayoutView",
            "align_content": null,
            "align_items": null,
            "align_self": null,
            "border": null,
            "bottom": null,
            "display": null,
            "flex": null,
            "flex_flow": null,
            "grid_area": null,
            "grid_auto_columns": null,
            "grid_auto_flow": null,
            "grid_auto_rows": null,
            "grid_column": null,
            "grid_gap": null,
            "grid_row": null,
            "grid_template_areas": null,
            "grid_template_columns": null,
            "grid_template_rows": null,
            "height": null,
            "justify_content": null,
            "justify_items": null,
            "left": null,
            "margin": null,
            "max_height": null,
            "max_width": null,
            "min_height": null,
            "min_width": null,
            "object_fit": null,
            "object_position": null,
            "order": null,
            "overflow": null,
            "overflow_x": null,
            "overflow_y": null,
            "padding": null,
            "right": null,
            "top": null,
            "visibility": null,
            "width": null
          }
        },
        "e1f89248c4e142fc8fb6d57757eff17e": {
          "model_module": "@jupyter-widgets/controls",
          "model_name": "ProgressStyleModel",
          "model_module_version": "1.5.0",
          "state": {
            "_model_module": "@jupyter-widgets/controls",
            "_model_module_version": "1.5.0",
            "_model_name": "ProgressStyleModel",
            "_view_count": null,
            "_view_module": "@jupyter-widgets/base",
            "_view_module_version": "1.2.0",
            "_view_name": "StyleView",
            "bar_color": null,
            "description_width": ""
          }
        },
        "3a4ec1c4ab9848cda9c56e93981a1f06": {
          "model_module": "@jupyter-widgets/base",
          "model_name": "LayoutModel",
          "model_module_version": "1.2.0",
          "state": {
            "_model_module": "@jupyter-widgets/base",
            "_model_module_version": "1.2.0",
            "_model_name": "LayoutModel",
            "_view_count": null,
            "_view_module": "@jupyter-widgets/base",
            "_view_module_version": "1.2.0",
            "_view_name": "LayoutView",
            "align_content": null,
            "align_items": null,
            "align_self": null,
            "border": null,
            "bottom": null,
            "display": null,
            "flex": null,
            "flex_flow": null,
            "grid_area": null,
            "grid_auto_columns": null,
            "grid_auto_flow": null,
            "grid_auto_rows": null,
            "grid_column": null,
            "grid_gap": null,
            "grid_row": null,
            "grid_template_areas": null,
            "grid_template_columns": null,
            "grid_template_rows": null,
            "height": null,
            "justify_content": null,
            "justify_items": null,
            "left": null,
            "margin": null,
            "max_height": null,
            "max_width": null,
            "min_height": null,
            "min_width": null,
            "object_fit": null,
            "object_position": null,
            "order": null,
            "overflow": null,
            "overflow_x": null,
            "overflow_y": null,
            "padding": null,
            "right": null,
            "top": null,
            "visibility": null,
            "width": null
          }
        },
        "acb1eb91e9b8483ca0324fc21d4116e1": {
          "model_module": "@jupyter-widgets/controls",
          "model_name": "DescriptionStyleModel",
          "model_module_version": "1.5.0",
          "state": {
            "_model_module": "@jupyter-widgets/controls",
            "_model_module_version": "1.5.0",
            "_model_name": "DescriptionStyleModel",
            "_view_count": null,
            "_view_module": "@jupyter-widgets/base",
            "_view_module_version": "1.2.0",
            "_view_name": "StyleView",
            "description_width": ""
          }
        },
        "4be79fe3c9214432a8291586a44c503b": {
          "model_module": "@jupyter-widgets/controls",
          "model_name": "HBoxModel",
          "model_module_version": "1.5.0",
          "state": {
            "_dom_classes": [],
            "_model_module": "@jupyter-widgets/controls",
            "_model_module_version": "1.5.0",
            "_model_name": "HBoxModel",
            "_view_count": null,
            "_view_module": "@jupyter-widgets/controls",
            "_view_module_version": "1.5.0",
            "_view_name": "HBoxView",
            "box_style": "",
            "children": [
              "IPY_MODEL_7b44356415e14f90a91212f012aaa33f",
              "IPY_MODEL_663e242540764b6c9601dc7bc954ac3a",
              "IPY_MODEL_7c84473b6b3740f0bc5e04e72f2dc8cf"
            ],
            "layout": "IPY_MODEL_77ae245e99924698bbb290f6971d075f"
          }
        },
        "7b44356415e14f90a91212f012aaa33f": {
          "model_module": "@jupyter-widgets/controls",
          "model_name": "HTMLModel",
          "model_module_version": "1.5.0",
          "state": {
            "_dom_classes": [],
            "_model_module": "@jupyter-widgets/controls",
            "_model_module_version": "1.5.0",
            "_model_name": "HTMLModel",
            "_view_count": null,
            "_view_module": "@jupyter-widgets/controls",
            "_view_module_version": "1.5.0",
            "_view_name": "HTMLView",
            "description": "",
            "description_tooltip": null,
            "layout": "IPY_MODEL_b7e69e6dc2f54a70a6ca18355a5d1828",
            "placeholder": "​",
            "style": "IPY_MODEL_fc842bd70c2b42db9d5444122a54fc13",
            "value": "Downloading: 100%"
          }
        },
        "663e242540764b6c9601dc7bc954ac3a": {
          "model_module": "@jupyter-widgets/controls",
          "model_name": "FloatProgressModel",
          "model_module_version": "1.5.0",
          "state": {
            "_dom_classes": [],
            "_model_module": "@jupyter-widgets/controls",
            "_model_module_version": "1.5.0",
            "_model_name": "FloatProgressModel",
            "_view_count": null,
            "_view_module": "@jupyter-widgets/controls",
            "_view_module_version": "1.5.0",
            "_view_name": "ProgressView",
            "bar_style": "success",
            "description": "",
            "description_tooltip": null,
            "layout": "IPY_MODEL_bb175d8f3a92421c896cfc1c86f32d21",
            "max": 440473133,
            "min": 0,
            "orientation": "horizontal",
            "style": "IPY_MODEL_e68b712661094deba1fdafb12cb3460d",
            "value": 440473133
          }
        },
        "7c84473b6b3740f0bc5e04e72f2dc8cf": {
          "model_module": "@jupyter-widgets/controls",
          "model_name": "HTMLModel",
          "model_module_version": "1.5.0",
          "state": {
            "_dom_classes": [],
            "_model_module": "@jupyter-widgets/controls",
            "_model_module_version": "1.5.0",
            "_model_name": "HTMLModel",
            "_view_count": null,
            "_view_module": "@jupyter-widgets/controls",
            "_view_module_version": "1.5.0",
            "_view_name": "HTMLView",
            "description": "",
            "description_tooltip": null,
            "layout": "IPY_MODEL_4cc72bbbe390456cbd8fe0b7d0d74ce2",
            "placeholder": "​",
            "style": "IPY_MODEL_dc3b3582a3304ae7b03e36ed87984d4b",
            "value": " 440M/440M [00:25&lt;00:00, 54.6MB/s]"
          }
        },
        "77ae245e99924698bbb290f6971d075f": {
          "model_module": "@jupyter-widgets/base",
          "model_name": "LayoutModel",
          "model_module_version": "1.2.0",
          "state": {
            "_model_module": "@jupyter-widgets/base",
            "_model_module_version": "1.2.0",
            "_model_name": "LayoutModel",
            "_view_count": null,
            "_view_module": "@jupyter-widgets/base",
            "_view_module_version": "1.2.0",
            "_view_name": "LayoutView",
            "align_content": null,
            "align_items": null,
            "align_self": null,
            "border": null,
            "bottom": null,
            "display": null,
            "flex": null,
            "flex_flow": null,
            "grid_area": null,
            "grid_auto_columns": null,
            "grid_auto_flow": null,
            "grid_auto_rows": null,
            "grid_column": null,
            "grid_gap": null,
            "grid_row": null,
            "grid_template_areas": null,
            "grid_template_columns": null,
            "grid_template_rows": null,
            "height": null,
            "justify_content": null,
            "justify_items": null,
            "left": null,
            "margin": null,
            "max_height": null,
            "max_width": null,
            "min_height": null,
            "min_width": null,
            "object_fit": null,
            "object_position": null,
            "order": null,
            "overflow": null,
            "overflow_x": null,
            "overflow_y": null,
            "padding": null,
            "right": null,
            "top": null,
            "visibility": null,
            "width": null
          }
        },
        "b7e69e6dc2f54a70a6ca18355a5d1828": {
          "model_module": "@jupyter-widgets/base",
          "model_name": "LayoutModel",
          "model_module_version": "1.2.0",
          "state": {
            "_model_module": "@jupyter-widgets/base",
            "_model_module_version": "1.2.0",
            "_model_name": "LayoutModel",
            "_view_count": null,
            "_view_module": "@jupyter-widgets/base",
            "_view_module_version": "1.2.0",
            "_view_name": "LayoutView",
            "align_content": null,
            "align_items": null,
            "align_self": null,
            "border": null,
            "bottom": null,
            "display": null,
            "flex": null,
            "flex_flow": null,
            "grid_area": null,
            "grid_auto_columns": null,
            "grid_auto_flow": null,
            "grid_auto_rows": null,
            "grid_column": null,
            "grid_gap": null,
            "grid_row": null,
            "grid_template_areas": null,
            "grid_template_columns": null,
            "grid_template_rows": null,
            "height": null,
            "justify_content": null,
            "justify_items": null,
            "left": null,
            "margin": null,
            "max_height": null,
            "max_width": null,
            "min_height": null,
            "min_width": null,
            "object_fit": null,
            "object_position": null,
            "order": null,
            "overflow": null,
            "overflow_x": null,
            "overflow_y": null,
            "padding": null,
            "right": null,
            "top": null,
            "visibility": null,
            "width": null
          }
        },
        "fc842bd70c2b42db9d5444122a54fc13": {
          "model_module": "@jupyter-widgets/controls",
          "model_name": "DescriptionStyleModel",
          "model_module_version": "1.5.0",
          "state": {
            "_model_module": "@jupyter-widgets/controls",
            "_model_module_version": "1.5.0",
            "_model_name": "DescriptionStyleModel",
            "_view_count": null,
            "_view_module": "@jupyter-widgets/base",
            "_view_module_version": "1.2.0",
            "_view_name": "StyleView",
            "description_width": ""
          }
        },
        "bb175d8f3a92421c896cfc1c86f32d21": {
          "model_module": "@jupyter-widgets/base",
          "model_name": "LayoutModel",
          "model_module_version": "1.2.0",
          "state": {
            "_model_module": "@jupyter-widgets/base",
            "_model_module_version": "1.2.0",
            "_model_name": "LayoutModel",
            "_view_count": null,
            "_view_module": "@jupyter-widgets/base",
            "_view_module_version": "1.2.0",
            "_view_name": "LayoutView",
            "align_content": null,
            "align_items": null,
            "align_self": null,
            "border": null,
            "bottom": null,
            "display": null,
            "flex": null,
            "flex_flow": null,
            "grid_area": null,
            "grid_auto_columns": null,
            "grid_auto_flow": null,
            "grid_auto_rows": null,
            "grid_column": null,
            "grid_gap": null,
            "grid_row": null,
            "grid_template_areas": null,
            "grid_template_columns": null,
            "grid_template_rows": null,
            "height": null,
            "justify_content": null,
            "justify_items": null,
            "left": null,
            "margin": null,
            "max_height": null,
            "max_width": null,
            "min_height": null,
            "min_width": null,
            "object_fit": null,
            "object_position": null,
            "order": null,
            "overflow": null,
            "overflow_x": null,
            "overflow_y": null,
            "padding": null,
            "right": null,
            "top": null,
            "visibility": null,
            "width": null
          }
        },
        "e68b712661094deba1fdafb12cb3460d": {
          "model_module": "@jupyter-widgets/controls",
          "model_name": "ProgressStyleModel",
          "model_module_version": "1.5.0",
          "state": {
            "_model_module": "@jupyter-widgets/controls",
            "_model_module_version": "1.5.0",
            "_model_name": "ProgressStyleModel",
            "_view_count": null,
            "_view_module": "@jupyter-widgets/base",
            "_view_module_version": "1.2.0",
            "_view_name": "StyleView",
            "bar_color": null,
            "description_width": ""
          }
        },
        "4cc72bbbe390456cbd8fe0b7d0d74ce2": {
          "model_module": "@jupyter-widgets/base",
          "model_name": "LayoutModel",
          "model_module_version": "1.2.0",
          "state": {
            "_model_module": "@jupyter-widgets/base",
            "_model_module_version": "1.2.0",
            "_model_name": "LayoutModel",
            "_view_count": null,
            "_view_module": "@jupyter-widgets/base",
            "_view_module_version": "1.2.0",
            "_view_name": "LayoutView",
            "align_content": null,
            "align_items": null,
            "align_self": null,
            "border": null,
            "bottom": null,
            "display": null,
            "flex": null,
            "flex_flow": null,
            "grid_area": null,
            "grid_auto_columns": null,
            "grid_auto_flow": null,
            "grid_auto_rows": null,
            "grid_column": null,
            "grid_gap": null,
            "grid_row": null,
            "grid_template_areas": null,
            "grid_template_columns": null,
            "grid_template_rows": null,
            "height": null,
            "justify_content": null,
            "justify_items": null,
            "left": null,
            "margin": null,
            "max_height": null,
            "max_width": null,
            "min_height": null,
            "min_width": null,
            "object_fit": null,
            "object_position": null,
            "order": null,
            "overflow": null,
            "overflow_x": null,
            "overflow_y": null,
            "padding": null,
            "right": null,
            "top": null,
            "visibility": null,
            "width": null
          }
        },
        "dc3b3582a3304ae7b03e36ed87984d4b": {
          "model_module": "@jupyter-widgets/controls",
          "model_name": "DescriptionStyleModel",
          "model_module_version": "1.5.0",
          "state": {
            "_model_module": "@jupyter-widgets/controls",
            "_model_module_version": "1.5.0",
            "_model_name": "DescriptionStyleModel",
            "_view_count": null,
            "_view_module": "@jupyter-widgets/base",
            "_view_module_version": "1.2.0",
            "_view_name": "StyleView",
            "description_width": ""
          }
        },
        "b3b179528ae5410d8fda465c81e40465": {
          "model_module": "@jupyter-widgets/controls",
          "model_name": "HBoxModel",
          "model_module_version": "1.5.0",
          "state": {
            "_dom_classes": [],
            "_model_module": "@jupyter-widgets/controls",
            "_model_module_version": "1.5.0",
            "_model_name": "HBoxModel",
            "_view_count": null,
            "_view_module": "@jupyter-widgets/controls",
            "_view_module_version": "1.5.0",
            "_view_name": "HBoxView",
            "box_style": "",
            "children": [
              "IPY_MODEL_5678889644104550ac413203075ed421",
              "IPY_MODEL_dd8839594b094c3eb54b04e3237b5d4d",
              "IPY_MODEL_4dc905e93aaa47f0bb091a0fe34b6031"
            ],
            "layout": "IPY_MODEL_74c4e827245b4bda80e3650e8fc1ac29"
          }
        },
        "5678889644104550ac413203075ed421": {
          "model_module": "@jupyter-widgets/controls",
          "model_name": "HTMLModel",
          "model_module_version": "1.5.0",
          "state": {
            "_dom_classes": [],
            "_model_module": "@jupyter-widgets/controls",
            "_model_module_version": "1.5.0",
            "_model_name": "HTMLModel",
            "_view_count": null,
            "_view_module": "@jupyter-widgets/controls",
            "_view_module_version": "1.5.0",
            "_view_name": "HTMLView",
            "description": "",
            "description_tooltip": null,
            "layout": "IPY_MODEL_b67fc856cf514b6f8f277d15c8b94325",
            "placeholder": "​",
            "style": "IPY_MODEL_d602bc0e3970499d920ba67660e5dc27",
            "value": "Downloading: 100%"
          }
        },
        "dd8839594b094c3eb54b04e3237b5d4d": {
          "model_module": "@jupyter-widgets/controls",
          "model_name": "FloatProgressModel",
          "model_module_version": "1.5.0",
          "state": {
            "_dom_classes": [],
            "_model_module": "@jupyter-widgets/controls",
            "_model_module_version": "1.5.0",
            "_model_name": "FloatProgressModel",
            "_view_count": null,
            "_view_module": "@jupyter-widgets/controls",
            "_view_module_version": "1.5.0",
            "_view_name": "ProgressView",
            "bar_style": "success",
            "description": "",
            "description_tooltip": null,
            "layout": "IPY_MODEL_883e06e1524b4fff9fccbc222994bb3d",
            "max": 231508,
            "min": 0,
            "orientation": "horizontal",
            "style": "IPY_MODEL_06e1216f2f42493f8447d1014dbcd007",
            "value": 231508
          }
        },
        "4dc905e93aaa47f0bb091a0fe34b6031": {
          "model_module": "@jupyter-widgets/controls",
          "model_name": "HTMLModel",
          "model_module_version": "1.5.0",
          "state": {
            "_dom_classes": [],
            "_model_module": "@jupyter-widgets/controls",
            "_model_module_version": "1.5.0",
            "_model_name": "HTMLModel",
            "_view_count": null,
            "_view_module": "@jupyter-widgets/controls",
            "_view_module_version": "1.5.0",
            "_view_name": "HTMLView",
            "description": "",
            "description_tooltip": null,
            "layout": "IPY_MODEL_1f20397fa7704d07a2976ee4c7601a5d",
            "placeholder": "​",
            "style": "IPY_MODEL_4c3702545ea24054ad2b8cfb3a3767e1",
            "value": " 232k/232k [00:00&lt;00:00, 696kB/s]"
          }
        },
        "74c4e827245b4bda80e3650e8fc1ac29": {
          "model_module": "@jupyter-widgets/base",
          "model_name": "LayoutModel",
          "model_module_version": "1.2.0",
          "state": {
            "_model_module": "@jupyter-widgets/base",
            "_model_module_version": "1.2.0",
            "_model_name": "LayoutModel",
            "_view_count": null,
            "_view_module": "@jupyter-widgets/base",
            "_view_module_version": "1.2.0",
            "_view_name": "LayoutView",
            "align_content": null,
            "align_items": null,
            "align_self": null,
            "border": null,
            "bottom": null,
            "display": null,
            "flex": null,
            "flex_flow": null,
            "grid_area": null,
            "grid_auto_columns": null,
            "grid_auto_flow": null,
            "grid_auto_rows": null,
            "grid_column": null,
            "grid_gap": null,
            "grid_row": null,
            "grid_template_areas": null,
            "grid_template_columns": null,
            "grid_template_rows": null,
            "height": null,
            "justify_content": null,
            "justify_items": null,
            "left": null,
            "margin": null,
            "max_height": null,
            "max_width": null,
            "min_height": null,
            "min_width": null,
            "object_fit": null,
            "object_position": null,
            "order": null,
            "overflow": null,
            "overflow_x": null,
            "overflow_y": null,
            "padding": null,
            "right": null,
            "top": null,
            "visibility": null,
            "width": null
          }
        },
        "b67fc856cf514b6f8f277d15c8b94325": {
          "model_module": "@jupyter-widgets/base",
          "model_name": "LayoutModel",
          "model_module_version": "1.2.0",
          "state": {
            "_model_module": "@jupyter-widgets/base",
            "_model_module_version": "1.2.0",
            "_model_name": "LayoutModel",
            "_view_count": null,
            "_view_module": "@jupyter-widgets/base",
            "_view_module_version": "1.2.0",
            "_view_name": "LayoutView",
            "align_content": null,
            "align_items": null,
            "align_self": null,
            "border": null,
            "bottom": null,
            "display": null,
            "flex": null,
            "flex_flow": null,
            "grid_area": null,
            "grid_auto_columns": null,
            "grid_auto_flow": null,
            "grid_auto_rows": null,
            "grid_column": null,
            "grid_gap": null,
            "grid_row": null,
            "grid_template_areas": null,
            "grid_template_columns": null,
            "grid_template_rows": null,
            "height": null,
            "justify_content": null,
            "justify_items": null,
            "left": null,
            "margin": null,
            "max_height": null,
            "max_width": null,
            "min_height": null,
            "min_width": null,
            "object_fit": null,
            "object_position": null,
            "order": null,
            "overflow": null,
            "overflow_x": null,
            "overflow_y": null,
            "padding": null,
            "right": null,
            "top": null,
            "visibility": null,
            "width": null
          }
        },
        "d602bc0e3970499d920ba67660e5dc27": {
          "model_module": "@jupyter-widgets/controls",
          "model_name": "DescriptionStyleModel",
          "model_module_version": "1.5.0",
          "state": {
            "_model_module": "@jupyter-widgets/controls",
            "_model_module_version": "1.5.0",
            "_model_name": "DescriptionStyleModel",
            "_view_count": null,
            "_view_module": "@jupyter-widgets/base",
            "_view_module_version": "1.2.0",
            "_view_name": "StyleView",
            "description_width": ""
          }
        },
        "883e06e1524b4fff9fccbc222994bb3d": {
          "model_module": "@jupyter-widgets/base",
          "model_name": "LayoutModel",
          "model_module_version": "1.2.0",
          "state": {
            "_model_module": "@jupyter-widgets/base",
            "_model_module_version": "1.2.0",
            "_model_name": "LayoutModel",
            "_view_count": null,
            "_view_module": "@jupyter-widgets/base",
            "_view_module_version": "1.2.0",
            "_view_name": "LayoutView",
            "align_content": null,
            "align_items": null,
            "align_self": null,
            "border": null,
            "bottom": null,
            "display": null,
            "flex": null,
            "flex_flow": null,
            "grid_area": null,
            "grid_auto_columns": null,
            "grid_auto_flow": null,
            "grid_auto_rows": null,
            "grid_column": null,
            "grid_gap": null,
            "grid_row": null,
            "grid_template_areas": null,
            "grid_template_columns": null,
            "grid_template_rows": null,
            "height": null,
            "justify_content": null,
            "justify_items": null,
            "left": null,
            "margin": null,
            "max_height": null,
            "max_width": null,
            "min_height": null,
            "min_width": null,
            "object_fit": null,
            "object_position": null,
            "order": null,
            "overflow": null,
            "overflow_x": null,
            "overflow_y": null,
            "padding": null,
            "right": null,
            "top": null,
            "visibility": null,
            "width": null
          }
        },
        "06e1216f2f42493f8447d1014dbcd007": {
          "model_module": "@jupyter-widgets/controls",
          "model_name": "ProgressStyleModel",
          "model_module_version": "1.5.0",
          "state": {
            "_model_module": "@jupyter-widgets/controls",
            "_model_module_version": "1.5.0",
            "_model_name": "ProgressStyleModel",
            "_view_count": null,
            "_view_module": "@jupyter-widgets/base",
            "_view_module_version": "1.2.0",
            "_view_name": "StyleView",
            "bar_color": null,
            "description_width": ""
          }
        },
        "1f20397fa7704d07a2976ee4c7601a5d": {
          "model_module": "@jupyter-widgets/base",
          "model_name": "LayoutModel",
          "model_module_version": "1.2.0",
          "state": {
            "_model_module": "@jupyter-widgets/base",
            "_model_module_version": "1.2.0",
            "_model_name": "LayoutModel",
            "_view_count": null,
            "_view_module": "@jupyter-widgets/base",
            "_view_module_version": "1.2.0",
            "_view_name": "LayoutView",
            "align_content": null,
            "align_items": null,
            "align_self": null,
            "border": null,
            "bottom": null,
            "display": null,
            "flex": null,
            "flex_flow": null,
            "grid_area": null,
            "grid_auto_columns": null,
            "grid_auto_flow": null,
            "grid_auto_rows": null,
            "grid_column": null,
            "grid_gap": null,
            "grid_row": null,
            "grid_template_areas": null,
            "grid_template_columns": null,
            "grid_template_rows": null,
            "height": null,
            "justify_content": null,
            "justify_items": null,
            "left": null,
            "margin": null,
            "max_height": null,
            "max_width": null,
            "min_height": null,
            "min_width": null,
            "object_fit": null,
            "object_position": null,
            "order": null,
            "overflow": null,
            "overflow_x": null,
            "overflow_y": null,
            "padding": null,
            "right": null,
            "top": null,
            "visibility": null,
            "width": null
          }
        },
        "4c3702545ea24054ad2b8cfb3a3767e1": {
          "model_module": "@jupyter-widgets/controls",
          "model_name": "DescriptionStyleModel",
          "model_module_version": "1.5.0",
          "state": {
            "_model_module": "@jupyter-widgets/controls",
            "_model_module_version": "1.5.0",
            "_model_name": "DescriptionStyleModel",
            "_view_count": null,
            "_view_module": "@jupyter-widgets/base",
            "_view_module_version": "1.2.0",
            "_view_name": "StyleView",
            "description_width": ""
          }
        },
        "a6921b71ad314dedaa9764cb531c624d": {
          "model_module": "@jupyter-widgets/controls",
          "model_name": "HBoxModel",
          "model_module_version": "1.5.0",
          "state": {
            "_dom_classes": [],
            "_model_module": "@jupyter-widgets/controls",
            "_model_module_version": "1.5.0",
            "_model_name": "HBoxModel",
            "_view_count": null,
            "_view_module": "@jupyter-widgets/controls",
            "_view_module_version": "1.5.0",
            "_view_name": "HBoxView",
            "box_style": "",
            "children": [
              "IPY_MODEL_28aff21fe6dd4295aa6ac21e08adf2a1",
              "IPY_MODEL_94ce240971a24235b353fd505c49909e",
              "IPY_MODEL_5731fca484694023aa19637a5fc9e3c7"
            ],
            "layout": "IPY_MODEL_aa3003c476b64bcea9a57cb09f2b1963"
          }
        },
        "28aff21fe6dd4295aa6ac21e08adf2a1": {
          "model_module": "@jupyter-widgets/controls",
          "model_name": "HTMLModel",
          "model_module_version": "1.5.0",
          "state": {
            "_dom_classes": [],
            "_model_module": "@jupyter-widgets/controls",
            "_model_module_version": "1.5.0",
            "_model_name": "HTMLModel",
            "_view_count": null,
            "_view_module": "@jupyter-widgets/controls",
            "_view_module_version": "1.5.0",
            "_view_name": "HTMLView",
            "description": "",
            "description_tooltip": null,
            "layout": "IPY_MODEL_074762a668c64e7e9edc58c2cddb06b4",
            "placeholder": "​",
            "style": "IPY_MODEL_415c1f1df332426b9372711f3581c472",
            "value": "Downloading: 100%"
          }
        },
        "94ce240971a24235b353fd505c49909e": {
          "model_module": "@jupyter-widgets/controls",
          "model_name": "FloatProgressModel",
          "model_module_version": "1.5.0",
          "state": {
            "_dom_classes": [],
            "_model_module": "@jupyter-widgets/controls",
            "_model_module_version": "1.5.0",
            "_model_name": "FloatProgressModel",
            "_view_count": null,
            "_view_module": "@jupyter-widgets/controls",
            "_view_module_version": "1.5.0",
            "_view_name": "ProgressView",
            "bar_style": "success",
            "description": "",
            "description_tooltip": null,
            "layout": "IPY_MODEL_5985362530a24a39b6681bd14521eb64",
            "max": 28,
            "min": 0,
            "orientation": "horizontal",
            "style": "IPY_MODEL_d0902ce114e348ef891e7bc4ba50d964",
            "value": 28
          }
        },
        "5731fca484694023aa19637a5fc9e3c7": {
          "model_module": "@jupyter-widgets/controls",
          "model_name": "HTMLModel",
          "model_module_version": "1.5.0",
          "state": {
            "_dom_classes": [],
            "_model_module": "@jupyter-widgets/controls",
            "_model_module_version": "1.5.0",
            "_model_name": "HTMLModel",
            "_view_count": null,
            "_view_module": "@jupyter-widgets/controls",
            "_view_module_version": "1.5.0",
            "_view_name": "HTMLView",
            "description": "",
            "description_tooltip": null,
            "layout": "IPY_MODEL_152a9b2d3c0a4497a3963c630cad6157",
            "placeholder": "​",
            "style": "IPY_MODEL_427fadaf8d514015882557eb8154b8d9",
            "value": " 28.0/28.0 [00:00&lt;00:00, 1.05kB/s]"
          }
        },
        "aa3003c476b64bcea9a57cb09f2b1963": {
          "model_module": "@jupyter-widgets/base",
          "model_name": "LayoutModel",
          "model_module_version": "1.2.0",
          "state": {
            "_model_module": "@jupyter-widgets/base",
            "_model_module_version": "1.2.0",
            "_model_name": "LayoutModel",
            "_view_count": null,
            "_view_module": "@jupyter-widgets/base",
            "_view_module_version": "1.2.0",
            "_view_name": "LayoutView",
            "align_content": null,
            "align_items": null,
            "align_self": null,
            "border": null,
            "bottom": null,
            "display": null,
            "flex": null,
            "flex_flow": null,
            "grid_area": null,
            "grid_auto_columns": null,
            "grid_auto_flow": null,
            "grid_auto_rows": null,
            "grid_column": null,
            "grid_gap": null,
            "grid_row": null,
            "grid_template_areas": null,
            "grid_template_columns": null,
            "grid_template_rows": null,
            "height": null,
            "justify_content": null,
            "justify_items": null,
            "left": null,
            "margin": null,
            "max_height": null,
            "max_width": null,
            "min_height": null,
            "min_width": null,
            "object_fit": null,
            "object_position": null,
            "order": null,
            "overflow": null,
            "overflow_x": null,
            "overflow_y": null,
            "padding": null,
            "right": null,
            "top": null,
            "visibility": null,
            "width": null
          }
        },
        "074762a668c64e7e9edc58c2cddb06b4": {
          "model_module": "@jupyter-widgets/base",
          "model_name": "LayoutModel",
          "model_module_version": "1.2.0",
          "state": {
            "_model_module": "@jupyter-widgets/base",
            "_model_module_version": "1.2.0",
            "_model_name": "LayoutModel",
            "_view_count": null,
            "_view_module": "@jupyter-widgets/base",
            "_view_module_version": "1.2.0",
            "_view_name": "LayoutView",
            "align_content": null,
            "align_items": null,
            "align_self": null,
            "border": null,
            "bottom": null,
            "display": null,
            "flex": null,
            "flex_flow": null,
            "grid_area": null,
            "grid_auto_columns": null,
            "grid_auto_flow": null,
            "grid_auto_rows": null,
            "grid_column": null,
            "grid_gap": null,
            "grid_row": null,
            "grid_template_areas": null,
            "grid_template_columns": null,
            "grid_template_rows": null,
            "height": null,
            "justify_content": null,
            "justify_items": null,
            "left": null,
            "margin": null,
            "max_height": null,
            "max_width": null,
            "min_height": null,
            "min_width": null,
            "object_fit": null,
            "object_position": null,
            "order": null,
            "overflow": null,
            "overflow_x": null,
            "overflow_y": null,
            "padding": null,
            "right": null,
            "top": null,
            "visibility": null,
            "width": null
          }
        },
        "415c1f1df332426b9372711f3581c472": {
          "model_module": "@jupyter-widgets/controls",
          "model_name": "DescriptionStyleModel",
          "model_module_version": "1.5.0",
          "state": {
            "_model_module": "@jupyter-widgets/controls",
            "_model_module_version": "1.5.0",
            "_model_name": "DescriptionStyleModel",
            "_view_count": null,
            "_view_module": "@jupyter-widgets/base",
            "_view_module_version": "1.2.0",
            "_view_name": "StyleView",
            "description_width": ""
          }
        },
        "5985362530a24a39b6681bd14521eb64": {
          "model_module": "@jupyter-widgets/base",
          "model_name": "LayoutModel",
          "model_module_version": "1.2.0",
          "state": {
            "_model_module": "@jupyter-widgets/base",
            "_model_module_version": "1.2.0",
            "_model_name": "LayoutModel",
            "_view_count": null,
            "_view_module": "@jupyter-widgets/base",
            "_view_module_version": "1.2.0",
            "_view_name": "LayoutView",
            "align_content": null,
            "align_items": null,
            "align_self": null,
            "border": null,
            "bottom": null,
            "display": null,
            "flex": null,
            "flex_flow": null,
            "grid_area": null,
            "grid_auto_columns": null,
            "grid_auto_flow": null,
            "grid_auto_rows": null,
            "grid_column": null,
            "grid_gap": null,
            "grid_row": null,
            "grid_template_areas": null,
            "grid_template_columns": null,
            "grid_template_rows": null,
            "height": null,
            "justify_content": null,
            "justify_items": null,
            "left": null,
            "margin": null,
            "max_height": null,
            "max_width": null,
            "min_height": null,
            "min_width": null,
            "object_fit": null,
            "object_position": null,
            "order": null,
            "overflow": null,
            "overflow_x": null,
            "overflow_y": null,
            "padding": null,
            "right": null,
            "top": null,
            "visibility": null,
            "width": null
          }
        },
        "d0902ce114e348ef891e7bc4ba50d964": {
          "model_module": "@jupyter-widgets/controls",
          "model_name": "ProgressStyleModel",
          "model_module_version": "1.5.0",
          "state": {
            "_model_module": "@jupyter-widgets/controls",
            "_model_module_version": "1.5.0",
            "_model_name": "ProgressStyleModel",
            "_view_count": null,
            "_view_module": "@jupyter-widgets/base",
            "_view_module_version": "1.2.0",
            "_view_name": "StyleView",
            "bar_color": null,
            "description_width": ""
          }
        },
        "152a9b2d3c0a4497a3963c630cad6157": {
          "model_module": "@jupyter-widgets/base",
          "model_name": "LayoutModel",
          "model_module_version": "1.2.0",
          "state": {
            "_model_module": "@jupyter-widgets/base",
            "_model_module_version": "1.2.0",
            "_model_name": "LayoutModel",
            "_view_count": null,
            "_view_module": "@jupyter-widgets/base",
            "_view_module_version": "1.2.0",
            "_view_name": "LayoutView",
            "align_content": null,
            "align_items": null,
            "align_self": null,
            "border": null,
            "bottom": null,
            "display": null,
            "flex": null,
            "flex_flow": null,
            "grid_area": null,
            "grid_auto_columns": null,
            "grid_auto_flow": null,
            "grid_auto_rows": null,
            "grid_column": null,
            "grid_gap": null,
            "grid_row": null,
            "grid_template_areas": null,
            "grid_template_columns": null,
            "grid_template_rows": null,
            "height": null,
            "justify_content": null,
            "justify_items": null,
            "left": null,
            "margin": null,
            "max_height": null,
            "max_width": null,
            "min_height": null,
            "min_width": null,
            "object_fit": null,
            "object_position": null,
            "order": null,
            "overflow": null,
            "overflow_x": null,
            "overflow_y": null,
            "padding": null,
            "right": null,
            "top": null,
            "visibility": null,
            "width": null
          }
        },
        "427fadaf8d514015882557eb8154b8d9": {
          "model_module": "@jupyter-widgets/controls",
          "model_name": "DescriptionStyleModel",
          "model_module_version": "1.5.0",
          "state": {
            "_model_module": "@jupyter-widgets/controls",
            "_model_module_version": "1.5.0",
            "_model_name": "DescriptionStyleModel",
            "_view_count": null,
            "_view_module": "@jupyter-widgets/base",
            "_view_module_version": "1.2.0",
            "_view_name": "StyleView",
            "description_width": ""
          }
        }
      }
    }
  },
  "cells": [
    {
      "cell_type": "code",
      "source": [
        "#!pip install transformers"
      ],
      "metadata": {
        "id": "ih-cmTG-kPO8"
      },
      "execution_count": null,
      "outputs": []
    },
    {
      "cell_type": "code",
      "execution_count": null,
      "metadata": {
        "id": "7oloXUuWeRhi"
      },
      "outputs": [],
      "source": [
        "import pandas as pd\n",
        "import numpy as np\n",
        "import matplotlib.pyplot as plt\n",
        "import plotly.graph_objects as go\n",
        "import sklearn\n",
        "import nltk\n",
        "import torch\n",
        "import re\n"
      ]
    },
    {
      "cell_type": "code",
      "source": [
        "from sklearn.model_selection import train_test_split\n",
        "from nltk.sentiment import SentimentIntensityAnalyzer\n",
        "from transformers import BertForSequenceClassification, BertTokenizer\n",
        "from mpl_toolkits.mplot3d import Axes3D\n",
        "from matplotlib.widgets import Button"
      ],
      "metadata": {
        "id": "rC91q1ErhkI1"
      },
      "execution_count": 93,
      "outputs": []
    },
    {
      "cell_type": "code",
      "source": [
        "with open('//content//drive//MyDrive//Gulosoft//out.csv', encoding ='ISO-8859-2') as f:\n",
        "    text = f.read()"
      ],
      "metadata": {
        "id": "FmfzO5pJiHBU"
      },
      "execution_count": null,
      "outputs": []
    },
    {
      "cell_type": "code",
      "source": [
        "df = pd.read_csv('//content//drive//MyDrive//Gulosoft//out.csv', encoding = 'ISO-8859-2')"
      ],
      "metadata": {
        "colab": {
          "base_uri": "https://localhost:8080/"
        },
        "id": "6aT993foiMDb",
        "outputId": "5f47570a-f95f-4be4-8c3a-b4fca006ceeb"
      },
      "execution_count": null,
      "outputs": [
        {
          "output_type": "stream",
          "name": "stderr",
          "text": [
            "/usr/local/lib/python3.8/dist-packages/IPython/core/interactiveshell.py:3326: DtypeWarning: Columns (6) have mixed types.Specify dtype option on import or set low_memory=False.\n",
            "  exec(code_obj, self.user_global_ns, self.user_ns)\n"
          ]
        }
      ]
    },
    {
      "cell_type": "code",
      "source": [
        "df.head(2)"
      ],
      "metadata": {
        "colab": {
          "base_uri": "https://localhost:8080/",
          "height": 310
        },
        "id": "jAqVDw_EitdM",
        "outputId": "6fddc0a0-83a3-44ce-ef7f-2f08ddbde9e3"
      },
      "execution_count": null,
      "outputs": [
        {
          "output_type": "execute_result",
          "data": {
            "text/plain": [
              "                                   _id                        Id  \\\n",
              "0  {\"$oid\":\"5b1aa7ee8bb55b300895a775\"}  5b1aa7ee8bb55b300895a774   \n",
              "1  {\"$oid\":\"5b1aa7ee8bb55b300895a777\"}  5b1aa7ee8bb55b300895a776   \n",
              "\n",
              "                              GroupId                    GroupName  \\\n",
              "0  {\"$numberLong\":\"1124374080936565\"}  Empower Your Online Success   \n",
              "1  {\"$numberLong\":\"1124374080936565\"}  Empower Your Online Success   \n",
              "\n",
              "                               PostId PostType UserProfileId    ProfileName  \\\n",
              "0  {\"$numberLong\":\"2171117736262189\"}    IMAGE    1348490940  Shawn Lemoine   \n",
              "1  {\"$numberLong\":\"2170670772973552\"}    IMAGE    1348490940  Shawn Lemoine   \n",
              "\n",
              "                                        ProfileImage  \\\n",
              "0  https://api.socioleadspro.com/api/Media/getpro...   \n",
              "1  https://api.socioleadspro.com/api/Media/getpro...   \n",
              "\n",
              "                                ProfileImageOriginal  ... NoOfComment  \\\n",
              "0  https://scontent-lhr3-1.xx.fbcdn.net/v/t1.0-1/...  ...           0   \n",
              "1  https://scontent-lhr3-1.xx.fbcdn.net/v/t1.0-1/...  ...           0   \n",
              "\n",
              "  NoOfShare DateTimeOfPost connectionStatus  \\\n",
              "0         0     1528458840            False   \n",
              "1         0     1528428573            False   \n",
              "\n",
              "                                             postUrl DestinationURL  \\\n",
              "0  https://www.facebook.com/groups/11243740809365...            NaN   \n",
              "1  https://www.facebook.com/groups/11243740809365...            NaN   \n",
              "\n",
              "   savePostDateTimeUtc  mediaPostUrlUpdated  CommentDetails  HashTag  \n",
              "0           1528473583                 True             NaN      NaN  \n",
              "1           1528473583                 True             NaN      NaN  \n",
              "\n",
              "[2 rows x 32 columns]"
            ],
            "text/html": [
              "\n",
              "  <div id=\"df-860f8691-a61b-4d82-8114-bcbd7a7636bd\">\n",
              "    <div class=\"colab-df-container\">\n",
              "      <div>\n",
              "<style scoped>\n",
              "    .dataframe tbody tr th:only-of-type {\n",
              "        vertical-align: middle;\n",
              "    }\n",
              "\n",
              "    .dataframe tbody tr th {\n",
              "        vertical-align: top;\n",
              "    }\n",
              "\n",
              "    .dataframe thead th {\n",
              "        text-align: right;\n",
              "    }\n",
              "</style>\n",
              "<table border=\"1\" class=\"dataframe\">\n",
              "  <thead>\n",
              "    <tr style=\"text-align: right;\">\n",
              "      <th></th>\n",
              "      <th>_id</th>\n",
              "      <th>Id</th>\n",
              "      <th>GroupId</th>\n",
              "      <th>GroupName</th>\n",
              "      <th>PostId</th>\n",
              "      <th>PostType</th>\n",
              "      <th>UserProfileId</th>\n",
              "      <th>ProfileName</th>\n",
              "      <th>ProfileImage</th>\n",
              "      <th>ProfileImageOriginal</th>\n",
              "      <th>...</th>\n",
              "      <th>NoOfComment</th>\n",
              "      <th>NoOfShare</th>\n",
              "      <th>DateTimeOfPost</th>\n",
              "      <th>connectionStatus</th>\n",
              "      <th>postUrl</th>\n",
              "      <th>DestinationURL</th>\n",
              "      <th>savePostDateTimeUtc</th>\n",
              "      <th>mediaPostUrlUpdated</th>\n",
              "      <th>CommentDetails</th>\n",
              "      <th>HashTag</th>\n",
              "    </tr>\n",
              "  </thead>\n",
              "  <tbody>\n",
              "    <tr>\n",
              "      <th>0</th>\n",
              "      <td>{\"$oid\":\"5b1aa7ee8bb55b300895a775\"}</td>\n",
              "      <td>5b1aa7ee8bb55b300895a774</td>\n",
              "      <td>{\"$numberLong\":\"1124374080936565\"}</td>\n",
              "      <td>Empower Your Online Success</td>\n",
              "      <td>{\"$numberLong\":\"2171117736262189\"}</td>\n",
              "      <td>IMAGE</td>\n",
              "      <td>1348490940</td>\n",
              "      <td>Shawn Lemoine</td>\n",
              "      <td>https://api.socioleadspro.com/api/Media/getpro...</td>\n",
              "      <td>https://scontent-lhr3-1.xx.fbcdn.net/v/t1.0-1/...</td>\n",
              "      <td>...</td>\n",
              "      <td>0</td>\n",
              "      <td>0</td>\n",
              "      <td>1528458840</td>\n",
              "      <td>False</td>\n",
              "      <td>https://www.facebook.com/groups/11243740809365...</td>\n",
              "      <td>NaN</td>\n",
              "      <td>1528473583</td>\n",
              "      <td>True</td>\n",
              "      <td>NaN</td>\n",
              "      <td>NaN</td>\n",
              "    </tr>\n",
              "    <tr>\n",
              "      <th>1</th>\n",
              "      <td>{\"$oid\":\"5b1aa7ee8bb55b300895a777\"}</td>\n",
              "      <td>5b1aa7ee8bb55b300895a776</td>\n",
              "      <td>{\"$numberLong\":\"1124374080936565\"}</td>\n",
              "      <td>Empower Your Online Success</td>\n",
              "      <td>{\"$numberLong\":\"2170670772973552\"}</td>\n",
              "      <td>IMAGE</td>\n",
              "      <td>1348490940</td>\n",
              "      <td>Shawn Lemoine</td>\n",
              "      <td>https://api.socioleadspro.com/api/Media/getpro...</td>\n",
              "      <td>https://scontent-lhr3-1.xx.fbcdn.net/v/t1.0-1/...</td>\n",
              "      <td>...</td>\n",
              "      <td>0</td>\n",
              "      <td>0</td>\n",
              "      <td>1528428573</td>\n",
              "      <td>False</td>\n",
              "      <td>https://www.facebook.com/groups/11243740809365...</td>\n",
              "      <td>NaN</td>\n",
              "      <td>1528473583</td>\n",
              "      <td>True</td>\n",
              "      <td>NaN</td>\n",
              "      <td>NaN</td>\n",
              "    </tr>\n",
              "  </tbody>\n",
              "</table>\n",
              "<p>2 rows × 32 columns</p>\n",
              "</div>\n",
              "      <button class=\"colab-df-convert\" onclick=\"convertToInteractive('df-860f8691-a61b-4d82-8114-bcbd7a7636bd')\"\n",
              "              title=\"Convert this dataframe to an interactive table.\"\n",
              "              style=\"display:none;\">\n",
              "        \n",
              "  <svg xmlns=\"http://www.w3.org/2000/svg\" height=\"24px\"viewBox=\"0 0 24 24\"\n",
              "       width=\"24px\">\n",
              "    <path d=\"M0 0h24v24H0V0z\" fill=\"none\"/>\n",
              "    <path d=\"M18.56 5.44l.94 2.06.94-2.06 2.06-.94-2.06-.94-.94-2.06-.94 2.06-2.06.94zm-11 1L8.5 8.5l.94-2.06 2.06-.94-2.06-.94L8.5 2.5l-.94 2.06-2.06.94zm10 10l.94 2.06.94-2.06 2.06-.94-2.06-.94-.94-2.06-.94 2.06-2.06.94z\"/><path d=\"M17.41 7.96l-1.37-1.37c-.4-.4-.92-.59-1.43-.59-.52 0-1.04.2-1.43.59L10.3 9.45l-7.72 7.72c-.78.78-.78 2.05 0 2.83L4 21.41c.39.39.9.59 1.41.59.51 0 1.02-.2 1.41-.59l7.78-7.78 2.81-2.81c.8-.78.8-2.07 0-2.86zM5.41 20L4 18.59l7.72-7.72 1.47 1.35L5.41 20z\"/>\n",
              "  </svg>\n",
              "      </button>\n",
              "      \n",
              "  <style>\n",
              "    .colab-df-container {\n",
              "      display:flex;\n",
              "      flex-wrap:wrap;\n",
              "      gap: 12px;\n",
              "    }\n",
              "\n",
              "    .colab-df-convert {\n",
              "      background-color: #E8F0FE;\n",
              "      border: none;\n",
              "      border-radius: 50%;\n",
              "      cursor: pointer;\n",
              "      display: none;\n",
              "      fill: #1967D2;\n",
              "      height: 32px;\n",
              "      padding: 0 0 0 0;\n",
              "      width: 32px;\n",
              "    }\n",
              "\n",
              "    .colab-df-convert:hover {\n",
              "      background-color: #E2EBFA;\n",
              "      box-shadow: 0px 1px 2px rgba(60, 64, 67, 0.3), 0px 1px 3px 1px rgba(60, 64, 67, 0.15);\n",
              "      fill: #174EA6;\n",
              "    }\n",
              "\n",
              "    [theme=dark] .colab-df-convert {\n",
              "      background-color: #3B4455;\n",
              "      fill: #D2E3FC;\n",
              "    }\n",
              "\n",
              "    [theme=dark] .colab-df-convert:hover {\n",
              "      background-color: #434B5C;\n",
              "      box-shadow: 0px 1px 3px 1px rgba(0, 0, 0, 0.15);\n",
              "      filter: drop-shadow(0px 1px 2px rgba(0, 0, 0, 0.3));\n",
              "      fill: #FFFFFF;\n",
              "    }\n",
              "  </style>\n",
              "\n",
              "      <script>\n",
              "        const buttonEl =\n",
              "          document.querySelector('#df-860f8691-a61b-4d82-8114-bcbd7a7636bd button.colab-df-convert');\n",
              "        buttonEl.style.display =\n",
              "          google.colab.kernel.accessAllowed ? 'block' : 'none';\n",
              "\n",
              "        async function convertToInteractive(key) {\n",
              "          const element = document.querySelector('#df-860f8691-a61b-4d82-8114-bcbd7a7636bd');\n",
              "          const dataTable =\n",
              "            await google.colab.kernel.invokeFunction('convertToInteractive',\n",
              "                                                     [key], {});\n",
              "          if (!dataTable) return;\n",
              "\n",
              "          const docLinkHtml = 'Like what you see? Visit the ' +\n",
              "            '<a target=\"_blank\" href=https://colab.research.google.com/notebooks/data_table.ipynb>data table notebook</a>'\n",
              "            + ' to learn more about interactive tables.';\n",
              "          element.innerHTML = '';\n",
              "          dataTable['output_type'] = 'display_data';\n",
              "          await google.colab.output.renderOutput(dataTable, element);\n",
              "          const docLink = document.createElement('div');\n",
              "          docLink.innerHTML = docLinkHtml;\n",
              "          element.appendChild(docLink);\n",
              "        }\n",
              "      </script>\n",
              "    </div>\n",
              "  </div>\n",
              "  "
            ]
          },
          "metadata": {},
          "execution_count": 9
        }
      ]
    },
    {
      "cell_type": "code",
      "source": [
        "df.shape"
      ],
      "metadata": {
        "colab": {
          "base_uri": "https://localhost:8080/"
        },
        "id": "7GfHxqrLjSst",
        "outputId": "01eb6fde-1f55-4f44-f6c2-f157014e2eab"
      },
      "execution_count": null,
      "outputs": [
        {
          "output_type": "execute_result",
          "data": {
            "text/plain": [
              "(201886, 32)"
            ]
          },
          "metadata": {},
          "execution_count": 17
        }
      ]
    },
    {
      "cell_type": "code",
      "source": [
        "df.columns"
      ],
      "metadata": {
        "colab": {
          "base_uri": "https://localhost:8080/"
        },
        "id": "ZhUgWCLtixdr",
        "outputId": "dc54cb62-8b18-4a56-fd6f-aa86f375890f"
      },
      "execution_count": null,
      "outputs": [
        {
          "output_type": "execute_result",
          "data": {
            "text/plain": [
              "Index(['_id', 'Id', 'GroupId', 'GroupName', 'PostId', 'PostType',\n",
              "       'UserProfileId', 'ProfileName', 'ProfileImage', 'ProfileImageOriginal',\n",
              "       'Message', 'FeedText', 'FeedDescription', 'FeedTitle', 'postImgUrl',\n",
              "       'postImgUrlOriginal', 'videoTitle', 'VideoSiteRedirectionUrl',\n",
              "       'VideoDescription', 'PostRedirectionImg', 'websiteUrl', 'NoOfLike',\n",
              "       'NoOfComment', 'NoOfShare', 'DateTimeOfPost', 'connectionStatus',\n",
              "       'postUrl', 'DestinationURL', 'savePostDateTimeUtc',\n",
              "       'mediaPostUrlUpdated', 'CommentDetails', 'HashTag'],\n",
              "      dtype='object')"
            ]
          },
          "metadata": {},
          "execution_count": 10
        }
      ]
    },
    {
      "cell_type": "code",
      "source": [
        "df.Message"
      ],
      "metadata": {
        "colab": {
          "base_uri": "https://localhost:8080/"
        },
        "id": "uUazjUhyi428",
        "outputId": "44c3e242-ab6f-4cc1-d829-3966103bd8b6"
      },
      "execution_count": null,
      "outputs": [
        {
          "output_type": "execute_result",
          "data": {
            "text/plain": [
              "0          Youre about to GET LUCKY! Rise and shine. HAP...\n",
              "1          Rest up, tomorrows a BIG DAY.\\r\\n You&#039;re...\n",
              "2          Start PRESSING with FORWARD moving people!\\r\\...\n",
              "3          Everyone can do it as the work required to ea...\n",
              "4          You have a habit of waking up every morning t...\n",
              "                                ...                        \n",
              "201881     What has $20 done for you lately? Believe it ...\n",
              "201882     WHO WANT TO MAKE $5000 - $10,000 - $20,000 A ...\n",
              "201883    Yoyozhu  Aruide was founded in 2012, which is ...\n",
              "201884     Need ko po ng 30 LEADERS / NETWORKERS na mahi...\n",
              "201885     What has $20 done for you lately? Believe it ...\n",
              "Name: Message, Length: 201886, dtype: object"
            ]
          },
          "metadata": {},
          "execution_count": 11
        }
      ]
    },
    {
      "cell_type": "code",
      "source": [
        "df.Message.value_counts()"
      ],
      "metadata": {
        "colab": {
          "base_uri": "https://localhost:8080/"
        },
        "id": "2CPYOymJi7q0",
        "outputId": "da3b91dd-2477-44ad-8fbe-52021caa2c6d"
      },
      "execution_count": null,
      "outputs": [
        {
          "output_type": "execute_result",
          "data": {
            "text/plain": [
              "                                                                                                                                                                                                                                                                                                                                                                                                                                                                                                                                                                                                                                                                                                                                                                                                                                                                                                                                                                                                                                                                                                                                                                                                                                                 7469\n",
              "Attachment Unavailable  This attachment may have been removed or the person who shared it may not have permission to share it with you.                                                                                                                                                                                                                                                                                                                                                                                                                                                                                                                                                                                                                                                                                                                                                                                                                                                                                                                                                                                                                                                                                                          1660\n",
              " \\r                                                                                                                                                                                                                                                                                                                                                                                                                                                                                                                                                                                                                                                                                                                                                                                                                                                                                                                                                                                                                                                                                                                                                                                                                                              1018\n",
              "â                                                                                                                                                                                                                                                                                                                                                                                                                                                                                                                                                                                                                                                                                                                                                                                                                                                                                                                                                                                                                                                                                                                                                                                                                                               159\n",
              " 13 courses Step-by-Step Video tutorials in just 500 Rs/- ($10)\\r  full package (1450+ video tutorials) (35 GB+ data)\\r\\n... DigitalMarketing (300+ videos) Instagram marketing (50+ videos) Seo (100+ videos) Dropshipping (75+ videos) Freelancing (45+ videos) Adwords (75+ videos) Graphic designing (60+ videos) Web development (300+ videos) Photoshop (145+ videos) Ecommerce wordpress (145+ videos) Video editing (90+ videos) White board animation (20+ videos) Amazon fba (40+ videos)\\r\\n Only for today...\\r\\n Lifetime Access...\\r\\n Come ib .... inbox me directly if you are interested....\\r\\n 13 courses Step-by-Step Video tutorials in just 500 Rs/- ($10) full package  (1450+ video tutorials) (35 GB+ data)... DigitalMarketing (300+ videos)\\n Instagram marketing (50+ videos)\\n Seo (100+ videos)\\n Dropshipping (75+ videos)\\n Freelancing (45+ videos)\\n Adwords (75+ videos)\\n Graphic designing (60+ videos)\\n Web development (300+ videos)\\n Photoshop (145+ videos)\\n Ecommerce wordpress (145+ videos)\\n Video editing (90+ videos)\\n White board animation (20+ videos)\\n Amazon fba (40+ videos) Only for today... Lifetime Access... Come ib .... inbox me directly if you are interested.... See more     120\n",
              "                                                                                                                                                                                                                                                                                                                                                                                                                                                                                                                                                                                                                                                                                                                                                                                                                                                                                                                                                                                                                                                                                                                                                                                                                                                 ... \n",
              " pls Add In New Startup Jaipur Group Group https://www.facebook.com/groups/Startupjaipur01\\r                                                                                                                                                                                                                                                                                                                                                                                                                                                                                                                                                                                                                                                                                                                                                                                                                                                                                                                                                                                                                                                                                                                                                        1\n",
              " Who can make this kind of video ? Kindly DM\\r                                                                                                                                                                                                                                                                                                                                                                                                                                                                                                                                                                                                                                                                                                                                                                                                                                                                                                                                                                                                                                                                                                                                                                                                      1\n",
              "Bajaj Rex 500-Watt Mixer Grinder with 3 Jars (White) https://amzn.to/2N86k5K CLICK TO BUY NOW\\r  Bajaj Rex 500-Watt Mixer Grinder with 3 Jars (White)                                                                                                                                                                                                                                                                                                                                                                                                                                                                                                                                                                                                                                                                                                                                                                                                                                                                                                                                                                                                                                                                                               1\n",
              " Georgette Saree with Unstiched Blouse\\r  Saree :- 5.50 Mtr Blouse :- 0.80 Mtr\\r\\n... Designs: 4 Dispatch: 2-3 days\\r\\n Georgette Saree with Unstiched Blouse Saree :- 5.50 Mtr  Blouse :- 0.80 Mtr... Designs: 4\\n Dispatch: 2-3 days See more                                                                                                                                                                                                                                                                                                                                                                                                                                                                                                                                                                                                                                                                                                                                                                                                                                                                                                                                                                                                     1\n",
              " Need ko po ng 30 LEADERS / NETWORKERS na mahilig mag FACEBOOK. Nagbibuild ako ng bagong line, kaya sure spill over! Ako mismo ang mag guide sayo đ Kahit full-time single dad / moms, employed, unemployed, OFWs kikita ng malaki ok naba sayo ang ââą8,000 per day ââą56,000 per week ââą240,000 per month... No need PC No need Wifi cp at DATA lang okay na NO more SOLVING CAPTCHA đ¤ NO no more LOG IN/OUT đ¤ NOT PALUWAGAN đ¤ NOT TABLE OF EXIT đ¤ NOT BTC TRADING đ¤ Pwede sa lahat!! literal na kikita ka dto.. ââđŻ% May kita kahit No invite ka â100% AUTOMATIC MY PUMAPASOK NA KITA ARAW ARAWđ¤đ¤ â100%PURE ONLINE â100% LEGIT Interested?   PM ME  para matulongan kita kng paano simulan ang business  na to https://m.me/unlishop.michaelsumaylo                                                                                                                                                                                                                                                                                                                                                                                                                                               1\n",
              "Name: Message, Length: 167313, dtype: int64"
            ]
          },
          "metadata": {},
          "execution_count": 15
        }
      ]
    },
    {
      "cell_type": "code",
      "source": [
        "text = df.Message"
      ],
      "metadata": {
        "id": "UXDmkcLsjBp8"
      },
      "execution_count": null,
      "outputs": []
    },
    {
      "cell_type": "code",
      "source": [
        "def remove_numbers_and_symbols(input_string):\n",
        "    output_string = re.sub(r'[^a-zA-Z\\s]', '', input_string)\n",
        "    return output_string"
      ],
      "metadata": {
        "id": "V4W0HXFGjIT8"
      },
      "execution_count": null,
      "outputs": []
    },
    {
      "cell_type": "code",
      "source": [
        "text = text.apply(remove_numbers_and_symbols)\n",
        "\n",
        "print(text)"
      ],
      "metadata": {
        "colab": {
          "base_uri": "https://localhost:8080/"
        },
        "id": "8FP37UJwjj5j",
        "outputId": "1daf99c6-cd98-4b2b-948b-86a0959743a4"
      },
      "execution_count": null,
      "outputs": [
        {
          "output_type": "stream",
          "name": "stdout",
          "text": [
            "0          Youre about to GET LUCKY Rise and shine HAPPY...\n",
            "1          Rest up tomorrows a BIG DAY\\r\\n Youre alot cl...\n",
            "2          Start PRESSING with FORWARD moving people\\r\\n...\n",
            "3          Everyone can do it as the work required to ea...\n",
            "4          You have a habit of waking up every morning t...\n",
            "                                ...                        \n",
            "201881     What has  done for you lately Believe it when...\n",
            "201882     WHO WANT TO MAKE      A WEEK  I am going to t...\n",
            "201883    Yoyozhu  Aruide was founded in  which is profe...\n",
            "201884     Need ko po ng  LEADERS  NETWORKERS na mahilig...\n",
            "201885     What has  done for you lately Believe it when...\n",
            "Name: Message, Length: 201886, dtype: object\n"
          ]
        }
      ]
    },
    {
      "cell_type": "code",
      "source": [
        "model = BertForSequenceClassification.from_pretrained('bert-base-uncased')\n",
        "tokenizer = BertTokenizer.from_pretrained('bert-base-uncased')"
      ],
      "metadata": {
        "colab": {
          "base_uri": "https://localhost:8080/",
          "height": 252,
          "referenced_widgets": [
            "05b75a7025924f7e9d9f6c32b0b030a1",
            "c82e5b036f324a94ad801e6f22e348b9",
            "ec8985d47d9f4b429d02231f4c31fa0c",
            "347a758c8be34015a3c3d7e83100d815",
            "a85f15d049fd4525891b259da255a1bb",
            "a24916f47d6d43f285fca6b6c5de9bd8",
            "62550439bcae43c5a713f9a2e6852176",
            "2b6e5f9e65cf4c58aa474240099fa62f",
            "e1f89248c4e142fc8fb6d57757eff17e",
            "3a4ec1c4ab9848cda9c56e93981a1f06",
            "acb1eb91e9b8483ca0324fc21d4116e1",
            "4be79fe3c9214432a8291586a44c503b",
            "7b44356415e14f90a91212f012aaa33f",
            "663e242540764b6c9601dc7bc954ac3a",
            "7c84473b6b3740f0bc5e04e72f2dc8cf",
            "77ae245e99924698bbb290f6971d075f",
            "b7e69e6dc2f54a70a6ca18355a5d1828",
            "fc842bd70c2b42db9d5444122a54fc13",
            "bb175d8f3a92421c896cfc1c86f32d21",
            "e68b712661094deba1fdafb12cb3460d",
            "4cc72bbbe390456cbd8fe0b7d0d74ce2",
            "dc3b3582a3304ae7b03e36ed87984d4b",
            "b3b179528ae5410d8fda465c81e40465",
            "5678889644104550ac413203075ed421",
            "dd8839594b094c3eb54b04e3237b5d4d",
            "4dc905e93aaa47f0bb091a0fe34b6031",
            "74c4e827245b4bda80e3650e8fc1ac29",
            "b67fc856cf514b6f8f277d15c8b94325",
            "d602bc0e3970499d920ba67660e5dc27",
            "883e06e1524b4fff9fccbc222994bb3d",
            "06e1216f2f42493f8447d1014dbcd007",
            "1f20397fa7704d07a2976ee4c7601a5d",
            "4c3702545ea24054ad2b8cfb3a3767e1",
            "a6921b71ad314dedaa9764cb531c624d",
            "28aff21fe6dd4295aa6ac21e08adf2a1",
            "94ce240971a24235b353fd505c49909e",
            "5731fca484694023aa19637a5fc9e3c7",
            "aa3003c476b64bcea9a57cb09f2b1963",
            "074762a668c64e7e9edc58c2cddb06b4",
            "415c1f1df332426b9372711f3581c472",
            "5985362530a24a39b6681bd14521eb64",
            "d0902ce114e348ef891e7bc4ba50d964",
            "152a9b2d3c0a4497a3963c630cad6157",
            "427fadaf8d514015882557eb8154b8d9"
          ]
        },
        "id": "uL5K7ORGjlbL",
        "outputId": "3dd6b4a3-372e-4da3-bbbd-8bb7a41841c0"
      },
      "execution_count": null,
      "outputs": [
        {
          "output_type": "display_data",
          "data": {
            "text/plain": [
              "Downloading:   0%|          | 0.00/570 [00:00<?, ?B/s]"
            ],
            "application/vnd.jupyter.widget-view+json": {
              "version_major": 2,
              "version_minor": 0,
              "model_id": "05b75a7025924f7e9d9f6c32b0b030a1"
            }
          },
          "metadata": {}
        },
        {
          "output_type": "display_data",
          "data": {
            "text/plain": [
              "Downloading:   0%|          | 0.00/440M [00:00<?, ?B/s]"
            ],
            "application/vnd.jupyter.widget-view+json": {
              "version_major": 2,
              "version_minor": 0,
              "model_id": "4be79fe3c9214432a8291586a44c503b"
            }
          },
          "metadata": {}
        },
        {
          "output_type": "stream",
          "name": "stderr",
          "text": [
            "Some weights of the model checkpoint at bert-base-uncased were not used when initializing BertForSequenceClassification: ['cls.predictions.bias', 'cls.predictions.transform.LayerNorm.weight', 'cls.seq_relationship.weight', 'cls.predictions.transform.dense.weight', 'cls.seq_relationship.bias', 'cls.predictions.transform.dense.bias', 'cls.predictions.transform.LayerNorm.bias', 'cls.predictions.decoder.weight']\n",
            "- This IS expected if you are initializing BertForSequenceClassification from the checkpoint of a model trained on another task or with another architecture (e.g. initializing a BertForSequenceClassification model from a BertForPreTraining model).\n",
            "- This IS NOT expected if you are initializing BertForSequenceClassification from the checkpoint of a model that you expect to be exactly identical (initializing a BertForSequenceClassification model from a BertForSequenceClassification model).\n",
            "Some weights of BertForSequenceClassification were not initialized from the model checkpoint at bert-base-uncased and are newly initialized: ['classifier.weight', 'classifier.bias']\n",
            "You should probably TRAIN this model on a down-stream task to be able to use it for predictions and inference.\n"
          ]
        },
        {
          "output_type": "display_data",
          "data": {
            "text/plain": [
              "Downloading:   0%|          | 0.00/232k [00:00<?, ?B/s]"
            ],
            "application/vnd.jupyter.widget-view+json": {
              "version_major": 2,
              "version_minor": 0,
              "model_id": "b3b179528ae5410d8fda465c81e40465"
            }
          },
          "metadata": {}
        },
        {
          "output_type": "display_data",
          "data": {
            "text/plain": [
              "Downloading:   0%|          | 0.00/28.0 [00:00<?, ?B/s]"
            ],
            "application/vnd.jupyter.widget-view+json": {
              "version_major": 2,
              "version_minor": 0,
              "model_id": "a6921b71ad314dedaa9764cb531c624d"
            }
          },
          "metadata": {}
        }
      ]
    },
    {
      "cell_type": "code",
      "source": [
        "type(text)"
      ],
      "metadata": {
        "colab": {
          "base_uri": "https://localhost:8080/"
        },
        "id": "mlLA1_KkjFj8",
        "outputId": "c3169364-144f-4dce-81f0-221382b2a380"
      },
      "execution_count": null,
      "outputs": [
        {
          "output_type": "execute_result",
          "data": {
            "text/plain": [
              "pandas.core.series.Series"
            ]
          },
          "metadata": {},
          "execution_count": 21
        }
      ]
    },
    {
      "cell_type": "code",
      "source": [
        "text = text.to_string()"
      ],
      "metadata": {
        "id": "7OOZrai9kzb7"
      },
      "execution_count": null,
      "outputs": []
    },
    {
      "cell_type": "code",
      "source": [
        "type(text)"
      ],
      "metadata": {
        "colab": {
          "base_uri": "https://localhost:8080/"
        },
        "id": "t3u_blMduQbJ",
        "outputId": "2999616e-5e4e-4f11-ddd5-598d6e84eef0"
      },
      "execution_count": null,
      "outputs": [
        {
          "output_type": "execute_result",
          "data": {
            "text/plain": [
              "str"
            ]
          },
          "metadata": {},
          "execution_count": 68
        }
      ]
    },
    {
      "cell_type": "code",
      "source": [
        "input_ids = torch.tensor(tokenizer.encode(text, max_length=512)).unsqueeze(0)"
      ],
      "metadata": {
        "id": "8fkV2b_wjuiL"
      },
      "execution_count": null,
      "outputs": []
    },
    {
      "cell_type": "code",
      "source": [
        "#print(input_ids)"
      ],
      "metadata": {
        "id": "RUU5-05AkxNU"
      },
      "execution_count": null,
      "outputs": []
    },
    {
      "cell_type": "code",
      "source": [
        "with torch.no_grad():\n",
        "    output = model(input_ids)[0]\n",
        "    _, predicted = torch.max(output, dim=1)\n",
        "    sentiment = predicted.tolist()"
      ],
      "metadata": {
        "id": "x1QqmAEllW40"
      },
      "execution_count": null,
      "outputs": []
    },
    {
      "cell_type": "code",
      "source": [
        "total = len(sentiment)\n",
        "negative = sentiment.count(0) / total\n",
        "neutral = sentiment.count(1) / total\n",
        "positive = sentiment.count(2) / total\n",
        "\n",
        "\n",
        "assert (negative + neutral + positive) == 1\n",
        "\n",
        "\n",
        "print(\"Negative: {:.2f}%\".format(negative * 100))\n",
        "print(\"Neutral: {:.2f}%\".format(neutral * 100))\n",
        "print(\"Positive: {:.2f}%\".format(positive * 100))"
      ],
      "metadata": {
        "colab": {
          "base_uri": "https://localhost:8080/"
        },
        "id": "vYJ35OrUlaJc",
        "outputId": "faeb54d0-1526-434e-9664-0d0a9191434f"
      },
      "execution_count": null,
      "outputs": [
        {
          "output_type": "stream",
          "name": "stdout",
          "text": [
            "Negative: 0.00%\n",
            "Neutral: 100.00%\n",
            "Positive: 0.00%\n"
          ]
        }
      ]
    },
    {
      "cell_type": "code",
      "source": [
        "nltk.download('vader_lexicon')"
      ],
      "metadata": {
        "colab": {
          "base_uri": "https://localhost:8080/"
        },
        "id": "YtIdR0utle60",
        "outputId": "174d8cfb-5a4d-4bce-88ac-a8859967f316"
      },
      "execution_count": null,
      "outputs": [
        {
          "output_type": "stream",
          "name": "stderr",
          "text": [
            "[nltk_data] Downloading package vader_lexicon to /root/nltk_data...\n"
          ]
        },
        {
          "output_type": "execute_result",
          "data": {
            "text/plain": [
              "True"
            ]
          },
          "metadata": {},
          "execution_count": 34
        }
      ]
    },
    {
      "cell_type": "code",
      "source": [
        "sia = SentimentIntensityAnalyzer()"
      ],
      "metadata": {
        "id": "wVSeDgWPli9j"
      },
      "execution_count": null,
      "outputs": []
    },
    {
      "cell_type": "code",
      "source": [
        "text = '''Need ko po ng 30 LEADERS / NETWORKERS na mahilig mag FACEBOOK.\n",
        " Nagbibuild ako ng bagong line, kaya sure spill over! Ako mismo ang mag guide sayo 🙂 Kahit full-time single dad / moms, employed, unemployed, OFWs kikita ng malaki ok naba sayo ang ✔₱8,000 per day ✔₱56,000 per week ✔₱240,000 per month... No need PC No need Wifi cp at DATA lang okay na NO more SOLVING CAPTCHA 🤔 NO no more LOG IN/OUT 🤔 NOT PALUWAGAN 🤔 NOT TABLE OF EXIT 🤔 NOT BTC TRADING 🤔 Pwede sa lahat!! literal na kikita ka dto.. ✔✔💯% May kita kahit No invite ka \n",
        " ✔100% AUTOMATIC MY PUMAPASOK NA KITA ARAW ARAW🤔🤔 ✔100%PURE ONLINE ✔100% LEGIT Interested?   PM ME  para matulongan kita kng paano simulan ang business\n",
        " courses Step-by-Step Video tutorials in just 500 Rs/- ($10)\\r  full package (1450+ video tutorials) (35 GB+ data)\\r\\n... DigitalMarketing (300+ videos) Instagram marketing (50+ videos) Seo (100+ videos) Dropshipping (75+ videos) Freelancing (45+ videos) Adwords (75+ videos)\n",
        "  Graphic designing (60+ videos) Web development (300+ videos) Photoshop (145+ videos) Ecommerce wordpress (145+ videos) Video editing (90+ videos) White board animation (20+ videos) Amazon fba (40+ videos)\\r\\n Only for today..\n",
        "  .\\r\\n Lifetime Access...\\r\\n Come ib .... inbox me directly if you are interested....\\r\\n 13 courses Step-by-Step Video tutorials in just 500 Rs/- ($10) full package  (1450+ video tutorials) (35 GB+ data)... DigitalMarketing (300+ videos)\\n Instagram marketing (50+ videos)\\n Seo (100+ videos)\\n Dropshipping (75+ videos)\\n Freelancing (45+ videos)\\n Adwords (75+ videos)\\n Graphic designing (60+ videos)\\n Web development (300+ videos)\\n Photoshop (145+ videos)\\n Ecommerce wordpress  (145+ videos)\\n Video editing (90+ videos)\\n White board animation (20+ videos)\\n Amazon fba (40+ videos) Only for today... Lifetime Access... Come ib .... inbox me directly if you are interested.... See more     120'''"
      ],
      "metadata": {
        "id": "3KxUhL_TlmLe"
      },
      "execution_count": null,
      "outputs": []
    },
    {
      "cell_type": "code",
      "source": [
        "nltk.download('punkt')"
      ],
      "metadata": {
        "colab": {
          "base_uri": "https://localhost:8080/"
        },
        "id": "BSi5ugyllqtM",
        "outputId": "8e526060-3c0c-45fc-866b-a26468ad8d01"
      },
      "execution_count": null,
      "outputs": [
        {
          "output_type": "stream",
          "name": "stderr",
          "text": [
            "[nltk_data] Downloading package punkt to /root/nltk_data...\n",
            "[nltk_data]   Unzipping tokenizers/punkt.zip.\n"
          ]
        },
        {
          "output_type": "execute_result",
          "data": {
            "text/plain": [
              "True"
            ]
          },
          "metadata": {},
          "execution_count": 38
        }
      ]
    },
    {
      "cell_type": "code",
      "source": [
        "sentences = nltk.sent_tokenize(text)"
      ],
      "metadata": {
        "id": "QpQZmxaGl_4M"
      },
      "execution_count": null,
      "outputs": []
    },
    {
      "cell_type": "code",
      "source": [
        "positive_words = []\n",
        "negative_words = []\n",
        "neutral_words = []"
      ],
      "metadata": {
        "id": "ZDFkmNPJmCL7"
      },
      "execution_count": null,
      "outputs": []
    },
    {
      "cell_type": "code",
      "source": [
        "for sentence in sentences:\n",
        "  words = nltk.word_tokenize(sentence)\n",
        "  for word in words:\n",
        "    sentiment = sia.polarity_scores(word)['compound']\n",
        "    if sentiment > 0:\n",
        "      positive_words.append(word)\n",
        "    elif sentiment < 0:\n",
        "      negative_words.append(word)\n",
        "    else:\n",
        "      neutral_words.append(word)"
      ],
      "metadata": {
        "id": "qzbVbFIcmEzk"
      },
      "execution_count": null,
      "outputs": []
    },
    {
      "cell_type": "code",
      "source": [
        "print(\"Positive Words:\", positive_words)\n",
        "print(\"Negative Words:\", negative_words)\n",
        "print(\"Neutral Words:\", neutral_words)"
      ],
      "metadata": {
        "colab": {
          "base_uri": "https://localhost:8080/"
        },
        "id": "oda3PWImmGwL",
        "outputId": "b5fc8a97-8a18-45e9-e682-89c334fa24d2"
      },
      "execution_count": null,
      "outputs": [
        {
          "output_type": "stream",
          "name": "stdout",
          "text": [
            "Positive Words: ['sure', 'ok', 'okay', 'SOLVING', 'invite', 'Interested', 'Freelancing', 'Amazon', 'interested', 'Freelancing', 'Amazon', 'interested']\n",
            "Negative Words: ['po', 'No', 'No', 'NO', 'NO', 'no', 'No']\n",
            "Neutral Words: ['Need', 'ko', 'ng', '30', 'LEADERS', '/', 'NETWORKERS', 'na', 'mahilig', 'mag', 'FACEBOOK', '.', 'Nagbibuild', 'ako', 'ng', 'bagong', 'line', ',', 'kaya', 'spill', 'over', '!', 'Ako', 'mismo', 'ang', 'mag', 'guide', 'sayo', '🙂', 'Kahit', 'full-time', 'single', 'dad', '/', 'moms', ',', 'employed', ',', 'unemployed', ',', 'OFWs', 'kikita', 'ng', 'malaki', 'naba', 'sayo', 'ang', '✔₱8,000', 'per', 'day', '✔₱56,000', 'per', 'week', '✔₱240,000', 'per', 'month', '...', 'need', 'PC', 'need', 'Wifi', 'cp', 'at', 'DATA', 'lang', 'na', 'more', 'CAPTCHA', '🤔', 'more', 'LOG', 'IN/OUT', '🤔', 'NOT', 'PALUWAGAN', '🤔', 'NOT', 'TABLE', 'OF', 'EXIT', '🤔', 'NOT', 'BTC', 'TRADING', '🤔', 'Pwede', 'sa', 'lahat', '!', '!', 'literal', 'na', 'kikita', 'ka', 'dto', '..', '✔✔💯', '%', 'May', 'kita', 'kahit', 'ka', '✔100', '%', 'AUTOMATIC', 'MY', 'PUMAPASOK', 'NA', 'KITA', 'ARAW', 'ARAW🤔🤔', '✔100', '%', 'PURE', 'ONLINE', '✔100', '%', 'LEGIT', '?', 'PM', 'ME', 'para', 'matulongan', 'kita', 'kng', 'paano', 'simulan', 'ang', 'business', 'courses', 'Step-by-Step', 'Video', 'tutorials', 'in', 'just', '500', 'Rs/-', '(', '$', '10', ')', 'full', 'package', '(', '1450+', 'video', 'tutorials', ')', '(', '35', 'GB+', 'data', ')', '...', 'DigitalMarketing', '(', '300+', 'videos', ')', 'Instagram', 'marketing', '(', '50+', 'videos', ')', 'Seo', '(', '100+', 'videos', ')', 'Dropshipping', '(', '75+', 'videos', ')', '(', '45+', 'videos', ')', 'Adwords', '(', '75+', 'videos', ')', 'Graphic', 'designing', '(', '60+', 'videos', ')', 'Web', 'development', '(', '300+', 'videos', ')', 'Photoshop', '(', '145+', 'videos', ')', 'Ecommerce', 'wordpress', '(', '145+', 'videos', ')', 'Video', 'editing', '(', '90+', 'videos', ')', 'White', 'board', 'animation', '(', '20+', 'videos', ')', 'fba', '(', '40+', 'videos', ')', 'Only', 'for', 'today', '..', '.', 'Lifetime', 'Access', '...', 'Come', 'ib', '....', 'inbox', 'me', 'directly', 'if', 'you', 'are', '....', '13', 'courses', 'Step-by-Step', 'Video', 'tutorials', 'in', 'just', '500', 'Rs/-', '(', '$', '10', ')', 'full', 'package', '(', '1450+', 'video', 'tutorials', ')', '(', '35', 'GB+', 'data', ')', '...', 'DigitalMarketing', '(', '300+', 'videos', ')', 'Instagram', 'marketing', '(', '50+', 'videos', ')', 'Seo', '(', '100+', 'videos', ')', 'Dropshipping', '(', '75+', 'videos', ')', '(', '45+', 'videos', ')', 'Adwords', '(', '75+', 'videos', ')', 'Graphic', 'designing', '(', '60+', 'videos', ')', 'Web', 'development', '(', '300+', 'videos', ')', 'Photoshop', '(', '145+', 'videos', ')', 'Ecommerce', 'wordpress', '(', '145+', 'videos', ')', 'Video', 'editing', '(', '90+', 'videos', ')', 'White', 'board', 'animation', '(', '20+', 'videos', ')', 'fba', '(', '40+', 'videos', ')', 'Only', 'for', 'today', '...', 'Lifetime', 'Access', '...', 'Come', 'ib', '....', 'inbox', 'me', 'directly', 'if', 'you', 'are', '....', 'See', 'more', '120']\n"
          ]
        }
      ]
    },
    {
      "cell_type": "code",
      "source": [
        "positive_count = len(positive_words)\n",
        "negative_count = len(negative_words)\n",
        "neutral_count = len(neutral_words)\n",
        "\n",
        "fig = plt.figure()\n",
        "ax = fig.add_subplot(111, projection='3d')\n",
        "positive = ax.bar([1], [positive_count], zs=[0], zdir='y', color='g', alpha=0.5)\n",
        "negative = ax.bar([2], [negative_count], zs=[0], zdir='y', color='r', alpha=0.5)\n",
        "neutral = ax.bar([3], [neutral_count], zs=[0], zdir='y', color='b', alpha=0.5)\n",
        "ax.set_xlabel('Word Type')\n",
        "ax.set_ylabel('Sentiment')\n",
        "ax.set_zlabel('Count')\n",
        "ax.set_title('Comparison of Positive, Negative and Neutral Words')\n",
        "ax.legend([positive, negative, neutral], ['Positive', 'Negative', 'Neutral'])\n",
        "\n",
        "rotate_button_ax = plt.axes([0.8, 0.05, 0.1, 0.075])\n",
        "rotate_button = Button(rotate_button_ax, 'Rotate')\n",
        "\n",
        "def rotate(event):\n",
        "    ax.view_init(azim=ax.azim+30)\n",
        "    plt.draw()\n",
        "\n",
        "\n",
        "rotate_button.on_clicked(rotate)\n",
        "\n",
        "\n",
        "plt.ion()\n",
        "\n",
        "plt.show()\n",
        "\n",
        "\n",
        "\n",
        "\n"
      ],
      "metadata": {
        "colab": {
          "base_uri": "https://localhost:8080/",
          "height": 273
        },
        "id": "xWTmRpzwmqfE",
        "outputId": "e397a488-1932-4d21-92ad-acf3230843a7"
      },
      "execution_count": null,
      "outputs": [
        {
          "output_type": "display_data",
          "data": {
            "text/plain": [
              "<Figure size 432x288 with 2 Axes>"
            ],
            "image/png": "[encoded data removed]"
          },
          "metadata": {
            "needs_background": "light"
          }
        }
      ]
    },
    {
      "cell_type": "code",
      "source": [
        "\n",
        "fig = go.Figure(data=[\n",
        "    go.Scatter3d(x=[1], y=[1], z=[positive_count], name='Positive', mode='markers', marker=dict(size=10, color='green')),\n",
        "    go.Scatter3d(x=[2], y=[1], z=[negative_count], name='Negative', mode='markers', marker=dict(size=10, color='red')),\n",
        "    go.Scatter3d(x=[3], y=[1], z=[neutral_count], name='Neutral', mode='markers', marker=dict(size=10, color='blue'))\n",
        "])\n",
        "\n",
        "fig.update_layout(scene=dict(xaxis_title='Word Type', yaxis_title='Sentiment', zaxis_title='Count'), \n",
        "                  title = 'Created by Soumyadarshan :  Facebook Sentimental analysis')\n",
        "fig.show()\n"
      ],
      "metadata": {
        "colab": {
          "base_uri": "https://localhost:8080/",
          "height": 542
        },
        "id": "yh5G4gguDvdD",
        "outputId": "14ee99f9-9750-4b75-bdcb-5777c9360a74"
      },
      "execution_count": null,
      "outputs": [
        {
          "output_type": "display_data",
          "data": {
            "text/html": [
              "<html>\n",
              "<head><meta charset=\"utf-8\" /></head>\n",
              "<body>\n",
              "    <div>            <script src=\"https://cdnjs.cloudflare.com/ajax/libs/mathjax/2.7.5/MathJax.js?config=TeX-AMS-MML_SVG\"></script><script type=\"text/javascript\">if (window.MathJax) {MathJax.Hub.Config({SVG: {font: \"STIX-Web\"}});}</script>                <script type=\"text/javascript\">window.PlotlyConfig = {MathJaxConfig: 'local'};</script>\n",
              "        <script src=\"https://cdn.plot.ly/plotly-2.8.3.min.js\"></script>                <div id=\"27d98c63-d4e5-45e3-b065-e1519019a075\" class=\"plotly-graph-div\" style=\"height:525px; width:100%;\"></div>            <script type=\"text/javascript\">                                    window.PLOTLYENV=window.PLOTLYENV || {};                                    if (document.getElementById(\"27d98c63-d4e5-45e3-b065-e1519019a075\")) {                    Plotly.newPlot(                        \"27d98c63-d4e5-45e3-b065-e1519019a075\",                        [{\"marker\":{\"color\":\"green\",\"size\":10},\"mode\":\"markers\",\"name\":\"Positive\",\"x\":[1],\"y\":[1],\"z\":[12],\"type\":\"scatter3d\"},{\"marker\":{\"color\":\"red\",\"size\":10},\"mode\":\"markers\",\"name\":\"Negative\",\"x\":[2],\"y\":[1],\"z\":[7],\"type\":\"scatter3d\"},{\"marker\":{\"color\":\"blue\",\"size\":10},\"mode\":\"markers\",\"name\":\"Neutral\",\"x\":[3],\"y\":[1],\"z\":[360],\"type\":\"scatter3d\"}],                        {\"template\":{\"data\":{\"bar\":[{\"error_x\":{\"color\":\"#2a3f5f\"},\"error_y\":{\"color\":\"#2a3f5f\"},\"marker\":{\"line\":{\"color\":\"#E5ECF6\",\"width\":0.5},\"pattern\":{\"fillmode\":\"overlay\",\"size\":10,\"solidity\":0.2}},\"type\":\"bar\"}],\"barpolar\":[{\"marker\":{\"line\":{\"color\":\"#E5ECF6\",\"width\":0.5},\"pattern\":{\"fillmode\":\"overlay\",\"size\":10,\"solidity\":0.2}},\"type\":\"barpolar\"}],\"carpet\":[{\"aaxis\":{\"endlinecolor\":\"#2a3f5f\",\"gridcolor\":\"white\",\"linecolor\":\"white\",\"minorgridcolor\":\"white\",\"startlinecolor\":\"#2a3f5f\"},\"baxis\":{\"endlinecolor\":\"#2a3f5f\",\"gridcolor\":\"white\",\"linecolor\":\"white\",\"minorgridcolor\":\"white\",\"startlinecolor\":\"#2a3f5f\"},\"type\":\"carpet\"}],\"choropleth\":[{\"colorbar\":{\"outlinewidth\":0,\"ticks\":\"\"},\"type\":\"choropleth\"}],\"contour\":[{\"colorbar\":{\"outlinewidth\":0,\"ticks\":\"\"},\"colorscale\":[[0.0,\"#0d0887\"],[0.1111111111111111,\"#46039f\"],[0.2222222222222222,\"#7201a8\"],[0.3333333333333333,\"#9c179e\"],[0.4444444444444444,\"#bd3786\"],[0.5555555555555556,\"#d8576b\"],[0.6666666666666666,\"#ed7953\"],[0.7777777777777778,\"#fb9f3a\"],[0.8888888888888888,\"#fdca26\"],[1.0,\"#f0f921\"]],\"type\":\"contour\"}],\"contourcarpet\":[{\"colorbar\":{\"outlinewidth\":0,\"ticks\":\"\"},\"type\":\"contourcarpet\"}],\"heatmap\":[{\"colorbar\":{\"outlinewidth\":0,\"ticks\":\"\"},\"colorscale\":[[0.0,\"#0d0887\"],[0.1111111111111111,\"#46039f\"],[0.2222222222222222,\"#7201a8\"],[0.3333333333333333,\"#9c179e\"],[0.4444444444444444,\"#bd3786\"],[0.5555555555555556,\"#d8576b\"],[0.6666666666666666,\"#ed7953\"],[0.7777777777777778,\"#fb9f3a\"],[0.8888888888888888,\"#fdca26\"],[1.0,\"#f0f921\"]],\"type\":\"heatmap\"}],\"heatmapgl\":[{\"colorbar\":{\"outlinewidth\":0,\"ticks\":\"\"},\"colorscale\":[[0.0,\"#0d0887\"],[0.1111111111111111,\"#46039f\"],[0.2222222222222222,\"#7201a8\"],[0.3333333333333333,\"#9c179e\"],[0.4444444444444444,\"#bd3786\"],[0.5555555555555556,\"#d8576b\"],[0.6666666666666666,\"#ed7953\"],[0.7777777777777778,\"#fb9f3a\"],[0.8888888888888888,\"#fdca26\"],[1.0,\"#f0f921\"]],\"type\":\"heatmapgl\"}],\"histogram\":[{\"marker\":{\"pattern\":{\"fillmode\":\"overlay\",\"size\":10,\"solidity\":0.2}},\"type\":\"histogram\"}],\"histogram2d\":[{\"colorbar\":{\"outlinewidth\":0,\"ticks\":\"\"},\"colorscale\":[[0.0,\"#0d0887\"],[0.1111111111111111,\"#46039f\"],[0.2222222222222222,\"#7201a8\"],[0.3333333333333333,\"#9c179e\"],[0.4444444444444444,\"#bd3786\"],[0.5555555555555556,\"#d8576b\"],[0.6666666666666666,\"#ed7953\"],[0.7777777777777778,\"#fb9f3a\"],[0.8888888888888888,\"#fdca26\"],[1.0,\"#f0f921\"]],\"type\":\"histogram2d\"}],\"histogram2dcontour\":[{\"colorbar\":{\"outlinewidth\":0,\"ticks\":\"\"},\"colorscale\":[[0.0,\"#0d0887\"],[0.1111111111111111,\"#46039f\"],[0.2222222222222222,\"#7201a8\"],[0.3333333333333333,\"#9c179e\"],[0.4444444444444444,\"#bd3786\"],[0.5555555555555556,\"#d8576b\"],[0.6666666666666666,\"#ed7953\"],[0.7777777777777778,\"#fb9f3a\"],[0.8888888888888888,\"#fdca26\"],[1.0,\"#f0f921\"]],\"type\":\"histogram2dcontour\"}],\"mesh3d\":[{\"colorbar\":{\"outlinewidth\":0,\"ticks\":\"\"},\"type\":\"mesh3d\"}],\"parcoords\":[{\"line\":{\"colorbar\":{\"outlinewidth\":0,\"ticks\":\"\"}},\"type\":\"parcoords\"}],\"pie\":[{\"automargin\":true,\"type\":\"pie\"}],\"scatter\":[{\"marker\":{\"colorbar\":{\"outlinewidth\":0,\"ticks\":\"\"}},\"type\":\"scatter\"}],\"scatter3d\":[{\"line\":{\"colorbar\":{\"outlinewidth\":0,\"ticks\":\"\"}},\"marker\":{\"colorbar\":{\"outlinewidth\":0,\"ticks\":\"\"}},\"type\":\"scatter3d\"}],\"scattercarpet\":[{\"marker\":{\"colorbar\":{\"outlinewidth\":0,\"ticks\":\"\"}},\"type\":\"scattercarpet\"}],\"scattergeo\":[{\"marker\":{\"colorbar\":{\"outlinewidth\":0,\"ticks\":\"\"}},\"type\":\"scattergeo\"}],\"scattergl\":[{\"marker\":{\"colorbar\":{\"outlinewidth\":0,\"ticks\":\"\"}},\"type\":\"scattergl\"}],\"scattermapbox\":[{\"marker\":{\"colorbar\":{\"outlinewidth\":0,\"ticks\":\"\"}},\"type\":\"scattermapbox\"}],\"scatterpolar\":[{\"marker\":{\"colorbar\":{\"outlinewidth\":0,\"ticks\":\"\"}},\"type\":\"scatterpolar\"}],\"scatterpolargl\":[{\"marker\":{\"colorbar\":{\"outlinewidth\":0,\"ticks\":\"\"}},\"type\":\"scatterpolargl\"}],\"scatterternary\":[{\"marker\":{\"colorbar\":{\"outlinewidth\":0,\"ticks\":\"\"}},\"type\":\"scatterternary\"}],\"surface\":[{\"colorbar\":{\"outlinewidth\":0,\"ticks\":\"\"},\"colorscale\":[[0.0,\"#0d0887\"],[0.1111111111111111,\"#46039f\"],[0.2222222222222222,\"#7201a8\"],[0.3333333333333333,\"#9c179e\"],[0.4444444444444444,\"#bd3786\"],[0.5555555555555556,\"#d8576b\"],[0.6666666666666666,\"#ed7953\"],[0.7777777777777778,\"#fb9f3a\"],[0.8888888888888888,\"#fdca26\"],[1.0,\"#f0f921\"]],\"type\":\"surface\"}],\"table\":[{\"cells\":{\"fill\":{\"color\":\"#EBF0F8\"},\"line\":{\"color\":\"white\"}},\"header\":{\"fill\":{\"color\":\"#C8D4E3\"},\"line\":{\"color\":\"white\"}},\"type\":\"table\"}]},\"layout\":{\"annotationdefaults\":{\"arrowcolor\":\"#2a3f5f\",\"arrowhead\":0,\"arrowwidth\":1},\"autotypenumbers\":\"strict\",\"coloraxis\":{\"colorbar\":{\"outlinewidth\":0,\"ticks\":\"\"}},\"colorscale\":{\"diverging\":[[0,\"#8e0152\"],[0.1,\"#c51b7d\"],[0.2,\"#de77ae\"],[0.3,\"#f1b6da\"],[0.4,\"#fde0ef\"],[0.5,\"#f7f7f7\"],[0.6,\"#e6f5d0\"],[0.7,\"#b8e186\"],[0.8,\"#7fbc41\"],[0.9,\"#4d9221\"],[1,\"#276419\"]],\"sequential\":[[0.0,\"#0d0887\"],[0.1111111111111111,\"#46039f\"],[0.2222222222222222,\"#7201a8\"],[0.3333333333333333,\"#9c179e\"],[0.4444444444444444,\"#bd3786\"],[0.5555555555555556,\"#d8576b\"],[0.6666666666666666,\"#ed7953\"],[0.7777777777777778,\"#fb9f3a\"],[0.8888888888888888,\"#fdca26\"],[1.0,\"#f0f921\"]],\"sequentialminus\":[[0.0,\"#0d0887\"],[0.1111111111111111,\"#46039f\"],[0.2222222222222222,\"#7201a8\"],[0.3333333333333333,\"#9c179e\"],[0.4444444444444444,\"#bd3786\"],[0.5555555555555556,\"#d8576b\"],[0.6666666666666666,\"#ed7953\"],[0.7777777777777778,\"#fb9f3a\"],[0.8888888888888888,\"#fdca26\"],[1.0,\"#f0f921\"]]},\"colorway\":[\"#636efa\",\"#EF553B\",\"#00cc96\",\"#ab63fa\",\"#FFA15A\",\"#19d3f3\",\"#FF6692\",\"#B6E880\",\"#FF97FF\",\"#FECB52\"],\"font\":{\"color\":\"#2a3f5f\"},\"geo\":{\"bgcolor\":\"white\",\"lakecolor\":\"white\",\"landcolor\":\"#E5ECF6\",\"showlakes\":true,\"showland\":true,\"subunitcolor\":\"white\"},\"hoverlabel\":{\"align\":\"left\"},\"hovermode\":\"closest\",\"mapbox\":{\"style\":\"light\"},\"paper_bgcolor\":\"white\",\"plot_bgcolor\":\"#E5ECF6\",\"polar\":{\"angularaxis\":{\"gridcolor\":\"white\",\"linecolor\":\"white\",\"ticks\":\"\"},\"bgcolor\":\"#E5ECF6\",\"radialaxis\":{\"gridcolor\":\"white\",\"linecolor\":\"white\",\"ticks\":\"\"}},\"scene\":{\"xaxis\":{\"backgroundcolor\":\"#E5ECF6\",\"gridcolor\":\"white\",\"gridwidth\":2,\"linecolor\":\"white\",\"showbackground\":true,\"ticks\":\"\",\"zerolinecolor\":\"white\"},\"yaxis\":{\"backgroundcolor\":\"#E5ECF6\",\"gridcolor\":\"white\",\"gridwidth\":2,\"linecolor\":\"white\",\"showbackground\":true,\"ticks\":\"\",\"zerolinecolor\":\"white\"},\"zaxis\":{\"backgroundcolor\":\"#E5ECF6\",\"gridcolor\":\"white\",\"gridwidth\":2,\"linecolor\":\"white\",\"showbackground\":true,\"ticks\":\"\",\"zerolinecolor\":\"white\"}},\"shapedefaults\":{\"line\":{\"color\":\"#2a3f5f\"}},\"ternary\":{\"aaxis\":{\"gridcolor\":\"white\",\"linecolor\":\"white\",\"ticks\":\"\"},\"baxis\":{\"gridcolor\":\"white\",\"linecolor\":\"white\",\"ticks\":\"\"},\"bgcolor\":\"#E5ECF6\",\"caxis\":{\"gridcolor\":\"white\",\"linecolor\":\"white\",\"ticks\":\"\"}},\"title\":{\"x\":0.05},\"xaxis\":{\"automargin\":true,\"gridcolor\":\"white\",\"linecolor\":\"white\",\"ticks\":\"\",\"title\":{\"standoff\":15},\"zerolinecolor\":\"white\",\"zerolinewidth\":2},\"yaxis\":{\"automargin\":true,\"gridcolor\":\"white\",\"linecolor\":\"white\",\"ticks\":\"\",\"title\":{\"standoff\":15},\"zerolinecolor\":\"white\",\"zerolinewidth\":2}}},\"scene\":{\"xaxis\":{\"title\":{\"text\":\"Word Type\"}},\"yaxis\":{\"title\":{\"text\":\"Sentiment\"}},\"zaxis\":{\"title\":{\"text\":\"Count\"}}},\"title\":{\"text\":\"Created by Soumyadarshan :  Facebook Sentimental analysis\"}},                        {\"responsive\": true}                    ).then(function(){\n",
              "                            \n",
              "var gd = document.getElementById('27d98c63-d4e5-45e3-b065-e1519019a075');\n",
              "var x = new MutationObserver(function (mutations, observer) {{\n",
              "        var display = window.getComputedStyle(gd).display;\n",
              "        if (!display || display === 'none') {{\n",
              "            console.log([gd, 'removed!']);\n",
              "            Plotly.purge(gd);\n",
              "            observer.disconnect();\n",
              "        }}\n",
              "}});\n",
              "\n",
              "// Listen for the removal of the full notebook cells\n",
              "var notebookContainer = gd.closest('#notebook-container');\n",
              "if (notebookContainer) {{\n",
              "    x.observe(notebookContainer, {childList: true});\n",
              "}}\n",
              "\n",
              "// Listen for the clearing of the current output cell\n",
              "var outputEl = gd.closest('.output');\n",
              "if (outputEl) {{\n",
              "    x.observe(outputEl, {childList: true});\n",
              "}}\n",
              "\n",
              "                        })                };                            </script>        </div>\n",
              "</body>\n",
              "</html>"
            ]
          },
          "metadata": {}
        }
      ]
    },
    {
      "cell_type": "code",
      "source": [],
      "metadata": {
        "id": "dfOJu2zVEJKz"
      },
      "execution_count": null,
      "outputs": []
    }
  ]
}